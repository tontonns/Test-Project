{
  "cells": [
    {
      "cell_type": "markdown",
      "metadata": {
        "id": "lqFyTWtp1kBy"
      },
      "source": [
        "# Model Deployment Netflix Project"
      ]
    },
    {
      "cell_type": "markdown",
      "metadata": {
        "id": "96Xq1bpYUe9g"
      },
      "source": [
        "## Data Cleaning & EDA"
      ]
    },
    {
      "cell_type": "markdown",
      "metadata": {
        "id": "Ir2wbWXC0MMC"
      },
      "source": [
        "Group 4 :\n",
        "- 2702223084 - Jonathan Christopher Gani\n",
        "- 2702274495 - Kevin Gabriel Wiharja\n",
        "- 2702258333 - Hartono Yaputra\n"
      ]
    },
    {
      "cell_type": "code",
      "execution_count": 1,
      "metadata": {
        "id": "eOmydBhjzeBl"
      },
      "outputs": [],
      "source": [
        "# importing necessary libraries\n",
        "import numpy as np\n",
        "import pandas as pd\n",
        "import matplotlib.pyplot as plt\n",
        "import seaborn as sns\n",
        "from sklearn.feature_extraction.text import TfidfVectorizer\n",
        "from sklearn.metrics.pairwise import linear_kernel\n",
        "from sklearn.pipeline import Pipeline\n",
        "import pickle as pkl"
      ]
    },
    {
      "cell_type": "code",
      "execution_count": 2,
      "metadata": {
        "colab": {
          "base_uri": "https://localhost:8080/",
          "height": 1000
        },
        "id": "oV014FnR2pCv",
        "outputId": "5e7f5908-bb54-4a21-dc00-d3b49383ebe0"
      },
      "outputs": [
        {
          "data": {
            "text/html": [
              "<div>\n",
              "<style scoped>\n",
              "    .dataframe tbody tr th:only-of-type {\n",
              "        vertical-align: middle;\n",
              "    }\n",
              "\n",
              "    .dataframe tbody tr th {\n",
              "        vertical-align: top;\n",
              "    }\n",
              "\n",
              "    .dataframe thead th {\n",
              "        text-align: right;\n",
              "    }\n",
              "</style>\n",
              "<table border=\"1\" class=\"dataframe\">\n",
              "  <thead>\n",
              "    <tr style=\"text-align: right;\">\n",
              "      <th></th>\n",
              "      <th>show_id</th>\n",
              "      <th>type</th>\n",
              "      <th>title</th>\n",
              "      <th>director</th>\n",
              "      <th>cast</th>\n",
              "      <th>country</th>\n",
              "      <th>date_added</th>\n",
              "      <th>release_year</th>\n",
              "      <th>rating</th>\n",
              "      <th>duration</th>\n",
              "      <th>listed_in</th>\n",
              "      <th>description</th>\n",
              "    </tr>\n",
              "  </thead>\n",
              "  <tbody>\n",
              "    <tr>\n",
              "      <th>0</th>\n",
              "      <td>s1</td>\n",
              "      <td>Movie</td>\n",
              "      <td>Dick Johnson Is Dead</td>\n",
              "      <td>Kirsten Johnson</td>\n",
              "      <td>NaN</td>\n",
              "      <td>United States</td>\n",
              "      <td>September 25, 2021</td>\n",
              "      <td>2020</td>\n",
              "      <td>PG-13</td>\n",
              "      <td>90 min</td>\n",
              "      <td>Documentaries</td>\n",
              "      <td>As her father nears the end of his life, filmm...</td>\n",
              "    </tr>\n",
              "    <tr>\n",
              "      <th>1</th>\n",
              "      <td>s2</td>\n",
              "      <td>TV Show</td>\n",
              "      <td>Blood &amp; Water</td>\n",
              "      <td>NaN</td>\n",
              "      <td>Ama Qamata, Khosi Ngema, Gail Mabalane, Thaban...</td>\n",
              "      <td>South Africa</td>\n",
              "      <td>September 24, 2021</td>\n",
              "      <td>2021</td>\n",
              "      <td>TV-MA</td>\n",
              "      <td>2 Seasons</td>\n",
              "      <td>International TV Shows, TV Dramas, TV Mysteries</td>\n",
              "      <td>After crossing paths at a party, a Cape Town t...</td>\n",
              "    </tr>\n",
              "    <tr>\n",
              "      <th>2</th>\n",
              "      <td>s3</td>\n",
              "      <td>TV Show</td>\n",
              "      <td>Ganglands</td>\n",
              "      <td>Julien Leclercq</td>\n",
              "      <td>Sami Bouajila, Tracy Gotoas, Samuel Jouy, Nabi...</td>\n",
              "      <td>NaN</td>\n",
              "      <td>September 24, 2021</td>\n",
              "      <td>2021</td>\n",
              "      <td>TV-MA</td>\n",
              "      <td>1 Season</td>\n",
              "      <td>Crime TV Shows, International TV Shows, TV Act...</td>\n",
              "      <td>To protect his family from a powerful drug lor...</td>\n",
              "    </tr>\n",
              "    <tr>\n",
              "      <th>3</th>\n",
              "      <td>s4</td>\n",
              "      <td>TV Show</td>\n",
              "      <td>Jailbirds New Orleans</td>\n",
              "      <td>NaN</td>\n",
              "      <td>NaN</td>\n",
              "      <td>NaN</td>\n",
              "      <td>September 24, 2021</td>\n",
              "      <td>2021</td>\n",
              "      <td>TV-MA</td>\n",
              "      <td>1 Season</td>\n",
              "      <td>Docuseries, Reality TV</td>\n",
              "      <td>Feuds, flirtations and toilet talk go down amo...</td>\n",
              "    </tr>\n",
              "    <tr>\n",
              "      <th>4</th>\n",
              "      <td>s5</td>\n",
              "      <td>TV Show</td>\n",
              "      <td>Kota Factory</td>\n",
              "      <td>NaN</td>\n",
              "      <td>Mayur More, Jitendra Kumar, Ranjan Raj, Alam K...</td>\n",
              "      <td>India</td>\n",
              "      <td>September 24, 2021</td>\n",
              "      <td>2021</td>\n",
              "      <td>TV-MA</td>\n",
              "      <td>2 Seasons</td>\n",
              "      <td>International TV Shows, Romantic TV Shows, TV ...</td>\n",
              "      <td>In a city of coaching centers known to train I...</td>\n",
              "    </tr>\n",
              "    <tr>\n",
              "      <th>...</th>\n",
              "      <td>...</td>\n",
              "      <td>...</td>\n",
              "      <td>...</td>\n",
              "      <td>...</td>\n",
              "      <td>...</td>\n",
              "      <td>...</td>\n",
              "      <td>...</td>\n",
              "      <td>...</td>\n",
              "      <td>...</td>\n",
              "      <td>...</td>\n",
              "      <td>...</td>\n",
              "      <td>...</td>\n",
              "    </tr>\n",
              "    <tr>\n",
              "      <th>8802</th>\n",
              "      <td>s8803</td>\n",
              "      <td>Movie</td>\n",
              "      <td>Zodiac</td>\n",
              "      <td>David Fincher</td>\n",
              "      <td>Mark Ruffalo, Jake Gyllenhaal, Robert Downey J...</td>\n",
              "      <td>United States</td>\n",
              "      <td>November 20, 2019</td>\n",
              "      <td>2007</td>\n",
              "      <td>R</td>\n",
              "      <td>158 min</td>\n",
              "      <td>Cult Movies, Dramas, Thrillers</td>\n",
              "      <td>A political cartoonist, a crime reporter and a...</td>\n",
              "    </tr>\n",
              "    <tr>\n",
              "      <th>8803</th>\n",
              "      <td>s8804</td>\n",
              "      <td>TV Show</td>\n",
              "      <td>Zombie Dumb</td>\n",
              "      <td>NaN</td>\n",
              "      <td>NaN</td>\n",
              "      <td>NaN</td>\n",
              "      <td>July 1, 2019</td>\n",
              "      <td>2018</td>\n",
              "      <td>TV-Y7</td>\n",
              "      <td>2 Seasons</td>\n",
              "      <td>Kids' TV, Korean TV Shows, TV Comedies</td>\n",
              "      <td>While living alone in a spooky town, a young g...</td>\n",
              "    </tr>\n",
              "    <tr>\n",
              "      <th>8804</th>\n",
              "      <td>s8805</td>\n",
              "      <td>Movie</td>\n",
              "      <td>Zombieland</td>\n",
              "      <td>Ruben Fleischer</td>\n",
              "      <td>Jesse Eisenberg, Woody Harrelson, Emma Stone, ...</td>\n",
              "      <td>United States</td>\n",
              "      <td>November 1, 2019</td>\n",
              "      <td>2009</td>\n",
              "      <td>R</td>\n",
              "      <td>88 min</td>\n",
              "      <td>Comedies, Horror Movies</td>\n",
              "      <td>Looking to survive in a world taken over by zo...</td>\n",
              "    </tr>\n",
              "    <tr>\n",
              "      <th>8805</th>\n",
              "      <td>s8806</td>\n",
              "      <td>Movie</td>\n",
              "      <td>Zoom</td>\n",
              "      <td>Peter Hewitt</td>\n",
              "      <td>Tim Allen, Courteney Cox, Chevy Chase, Kate Ma...</td>\n",
              "      <td>United States</td>\n",
              "      <td>January 11, 2020</td>\n",
              "      <td>2006</td>\n",
              "      <td>PG</td>\n",
              "      <td>88 min</td>\n",
              "      <td>Children &amp; Family Movies, Comedies</td>\n",
              "      <td>Dragged from civilian life, a former superhero...</td>\n",
              "    </tr>\n",
              "    <tr>\n",
              "      <th>8806</th>\n",
              "      <td>s8807</td>\n",
              "      <td>Movie</td>\n",
              "      <td>Zubaan</td>\n",
              "      <td>Mozez Singh</td>\n",
              "      <td>Vicky Kaushal, Sarah-Jane Dias, Raaghav Chanan...</td>\n",
              "      <td>India</td>\n",
              "      <td>March 2, 2019</td>\n",
              "      <td>2015</td>\n",
              "      <td>TV-14</td>\n",
              "      <td>111 min</td>\n",
              "      <td>Dramas, International Movies, Music &amp; Musicals</td>\n",
              "      <td>A scrappy but poor boy worms his way into a ty...</td>\n",
              "    </tr>\n",
              "  </tbody>\n",
              "</table>\n",
              "<p>8807 rows × 12 columns</p>\n",
              "</div>"
            ],
            "text/plain": [
              "     show_id     type                  title         director  \\\n",
              "0         s1    Movie   Dick Johnson Is Dead  Kirsten Johnson   \n",
              "1         s2  TV Show          Blood & Water              NaN   \n",
              "2         s3  TV Show              Ganglands  Julien Leclercq   \n",
              "3         s4  TV Show  Jailbirds New Orleans              NaN   \n",
              "4         s5  TV Show           Kota Factory              NaN   \n",
              "...      ...      ...                    ...              ...   \n",
              "8802   s8803    Movie                 Zodiac    David Fincher   \n",
              "8803   s8804  TV Show            Zombie Dumb              NaN   \n",
              "8804   s8805    Movie             Zombieland  Ruben Fleischer   \n",
              "8805   s8806    Movie                   Zoom     Peter Hewitt   \n",
              "8806   s8807    Movie                 Zubaan      Mozez Singh   \n",
              "\n",
              "                                                   cast        country  \\\n",
              "0                                                   NaN  United States   \n",
              "1     Ama Qamata, Khosi Ngema, Gail Mabalane, Thaban...   South Africa   \n",
              "2     Sami Bouajila, Tracy Gotoas, Samuel Jouy, Nabi...            NaN   \n",
              "3                                                   NaN            NaN   \n",
              "4     Mayur More, Jitendra Kumar, Ranjan Raj, Alam K...          India   \n",
              "...                                                 ...            ...   \n",
              "8802  Mark Ruffalo, Jake Gyllenhaal, Robert Downey J...  United States   \n",
              "8803                                                NaN            NaN   \n",
              "8804  Jesse Eisenberg, Woody Harrelson, Emma Stone, ...  United States   \n",
              "8805  Tim Allen, Courteney Cox, Chevy Chase, Kate Ma...  United States   \n",
              "8806  Vicky Kaushal, Sarah-Jane Dias, Raaghav Chanan...          India   \n",
              "\n",
              "              date_added  release_year rating   duration  \\\n",
              "0     September 25, 2021          2020  PG-13     90 min   \n",
              "1     September 24, 2021          2021  TV-MA  2 Seasons   \n",
              "2     September 24, 2021          2021  TV-MA   1 Season   \n",
              "3     September 24, 2021          2021  TV-MA   1 Season   \n",
              "4     September 24, 2021          2021  TV-MA  2 Seasons   \n",
              "...                  ...           ...    ...        ...   \n",
              "8802   November 20, 2019          2007      R    158 min   \n",
              "8803        July 1, 2019          2018  TV-Y7  2 Seasons   \n",
              "8804    November 1, 2019          2009      R     88 min   \n",
              "8805    January 11, 2020          2006     PG     88 min   \n",
              "8806       March 2, 2019          2015  TV-14    111 min   \n",
              "\n",
              "                                              listed_in  \\\n",
              "0                                         Documentaries   \n",
              "1       International TV Shows, TV Dramas, TV Mysteries   \n",
              "2     Crime TV Shows, International TV Shows, TV Act...   \n",
              "3                                Docuseries, Reality TV   \n",
              "4     International TV Shows, Romantic TV Shows, TV ...   \n",
              "...                                                 ...   \n",
              "8802                     Cult Movies, Dramas, Thrillers   \n",
              "8803             Kids' TV, Korean TV Shows, TV Comedies   \n",
              "8804                            Comedies, Horror Movies   \n",
              "8805                 Children & Family Movies, Comedies   \n",
              "8806     Dramas, International Movies, Music & Musicals   \n",
              "\n",
              "                                            description  \n",
              "0     As her father nears the end of his life, filmm...  \n",
              "1     After crossing paths at a party, a Cape Town t...  \n",
              "2     To protect his family from a powerful drug lor...  \n",
              "3     Feuds, flirtations and toilet talk go down amo...  \n",
              "4     In a city of coaching centers known to train I...  \n",
              "...                                                 ...  \n",
              "8802  A political cartoonist, a crime reporter and a...  \n",
              "8803  While living alone in a spooky town, a young g...  \n",
              "8804  Looking to survive in a world taken over by zo...  \n",
              "8805  Dragged from civilian life, a former superhero...  \n",
              "8806  A scrappy but poor boy worms his way into a ty...  \n",
              "\n",
              "[8807 rows x 12 columns]"
            ]
          },
          "execution_count": 2,
          "metadata": {},
          "output_type": "execute_result"
        }
      ],
      "source": [
        "dataset = pd.read_csv('netflix_titles.csv')\n",
        "dataset"
      ]
    },
    {
      "cell_type": "markdown",
      "metadata": {
        "id": "M1K-KHWO286H"
      },
      "source": [
        "### Dataset Information\n",
        "\n",
        "- show_id\t= an unique identifier for every movie / TV show.\n",
        "- type = an identifier between movie or TV show.\n",
        "- title\t= each title from the movie / TV show.\n",
        "- director = the director of the movie.\n",
        "- cast = the actors who is involved during the making of the movie / TV show.\n",
        "- country\t= the country location where the movie / TV show was created.\n",
        "- date_added = the date when it was added to Netflix.\n",
        "- release_year = the actual year when the movie / TV show is released.\n",
        "- rating = the types of rating of the movie / TV show\n",
        "- duration = the duration in minutes or number of seasons\n",
        "- listed_in = the genre of the movie / TV shows\n",
        "- description = the description of the movie / TV shows"
      ]
    },
    {
      "cell_type": "code",
      "execution_count": 3,
      "metadata": {
        "colab": {
          "base_uri": "https://localhost:8080/"
        },
        "id": "Belp5qyU4BpF",
        "outputId": "4d1fbefd-bc32-4f6b-ff54-8a92d6fa89d1"
      },
      "outputs": [
        {
          "data": {
            "text/plain": [
              "(8807, 12)"
            ]
          },
          "execution_count": 3,
          "metadata": {},
          "output_type": "execute_result"
        }
      ],
      "source": [
        "dataset.shape"
      ]
    },
    {
      "cell_type": "code",
      "execution_count": 4,
      "metadata": {
        "colab": {
          "base_uri": "https://localhost:8080/"
        },
        "id": "45n1Xw5RhLAk",
        "outputId": "70539170-a9ac-4635-cacf-4bed649ce473"
      },
      "outputs": [
        {
          "data": {
            "text/plain": [
              "Index(['show_id', 'type', 'title', 'director', 'cast', 'country', 'date_added',\n",
              "       'release_year', 'rating', 'duration', 'listed_in', 'description'],\n",
              "      dtype='object')"
            ]
          },
          "execution_count": 4,
          "metadata": {},
          "output_type": "execute_result"
        }
      ],
      "source": [
        "dataset.columns"
      ]
    },
    {
      "cell_type": "code",
      "execution_count": 5,
      "metadata": {
        "colab": {
          "base_uri": "https://localhost:8080/"
        },
        "id": "zYTXoxQClU0N",
        "outputId": "ef3f0951-78b9-46f1-bb5b-4537ac4e4205"
      },
      "outputs": [
        {
          "name": "stdout",
          "output_type": "stream",
          "text": [
            "<class 'pandas.core.frame.DataFrame'>\n",
            "RangeIndex: 8807 entries, 0 to 8806\n",
            "Data columns (total 12 columns):\n",
            " #   Column        Non-Null Count  Dtype \n",
            "---  ------        --------------  ----- \n",
            " 0   show_id       8807 non-null   object\n",
            " 1   type          8807 non-null   object\n",
            " 2   title         8807 non-null   object\n",
            " 3   director      6173 non-null   object\n",
            " 4   cast          7982 non-null   object\n",
            " 5   country       7976 non-null   object\n",
            " 6   date_added    8797 non-null   object\n",
            " 7   release_year  8807 non-null   int64 \n",
            " 8   rating        8803 non-null   object\n",
            " 9   duration      8804 non-null   object\n",
            " 10  listed_in     8807 non-null   object\n",
            " 11  description   8807 non-null   object\n",
            "dtypes: int64(1), object(11)\n",
            "memory usage: 825.8+ KB\n"
          ]
        }
      ],
      "source": [
        "dataset.info()"
      ]
    },
    {
      "cell_type": "markdown",
      "metadata": {
        "id": "uZrb1lHb2UFR"
      },
      "source": [
        "\n",
        "\n",
        "Here, we read the Netflix dataset, which consists of 8,807 rows and 12 columns. There is also a list of the column names in the dataset, along with the brief information of data types and missing values. It can be seen that there are several missing values, specifically in the director, cast, country, date_added, rating, and duration columns. As for the data types, all of them are already appropriate."
      ]
    },
    {
      "cell_type": "markdown",
      "metadata": {
        "id": "ck09_mQU0C7d"
      },
      "source": [
        "### Converting Format Data\n"
      ]
    },
    {
      "cell_type": "code",
      "execution_count": 6,
      "metadata": {
        "colab": {
          "base_uri": "https://localhost:8080/",
          "height": 489
        },
        "id": "4V1zrJsdlc7A",
        "outputId": "84259c9d-760e-48df-92c2-d092ebd4e2d5"
      },
      "outputs": [
        {
          "data": {
            "text/plain": [
              "date_added\n",
              "January 1, 2020      109\n",
              "November 1, 2019      89\n",
              "March 1, 2018         75\n",
              "December 31, 2019     74\n",
              "October 1, 2018       71\n",
              "                    ... \n",
              "December 4, 2016       1\n",
              "November 21, 2016      1\n",
              "November 19, 2016      1\n",
              "November 17, 2016      1\n",
              "January 11, 2020       1\n",
              "Name: count, Length: 1767, dtype: int64"
            ]
          },
          "execution_count": 6,
          "metadata": {},
          "output_type": "execute_result"
        }
      ],
      "source": [
        "dataset['date_added'].value_counts()"
      ]
    },
    {
      "cell_type": "code",
      "execution_count": 7,
      "metadata": {
        "id": "az7ynEZulkjw"
      },
      "outputs": [],
      "source": [
        "dataset['date_added'] = pd.to_datetime(dataset['date_added'], errors='coerce').dt.date"
      ]
    },
    {
      "cell_type": "code",
      "execution_count": 8,
      "metadata": {
        "colab": {
          "base_uri": "https://localhost:8080/",
          "height": 466
        },
        "id": "o6ZjiA-TUZsm",
        "outputId": "572c169b-926a-4ed4-dcc6-ae19b7be6d78"
      },
      "outputs": [
        {
          "data": {
            "text/html": [
              "<div>\n",
              "<style scoped>\n",
              "    .dataframe tbody tr th:only-of-type {\n",
              "        vertical-align: middle;\n",
              "    }\n",
              "\n",
              "    .dataframe tbody tr th {\n",
              "        vertical-align: top;\n",
              "    }\n",
              "\n",
              "    .dataframe thead th {\n",
              "        text-align: right;\n",
              "    }\n",
              "</style>\n",
              "<table border=\"1\" class=\"dataframe\">\n",
              "  <thead>\n",
              "    <tr style=\"text-align: right;\">\n",
              "      <th></th>\n",
              "      <th>show_id</th>\n",
              "      <th>type</th>\n",
              "      <th>title</th>\n",
              "      <th>director</th>\n",
              "      <th>cast</th>\n",
              "      <th>country</th>\n",
              "      <th>date_added</th>\n",
              "      <th>release_year</th>\n",
              "      <th>rating</th>\n",
              "      <th>duration</th>\n",
              "      <th>listed_in</th>\n",
              "      <th>description</th>\n",
              "    </tr>\n",
              "  </thead>\n",
              "  <tbody>\n",
              "    <tr>\n",
              "      <th>0</th>\n",
              "      <td>s1</td>\n",
              "      <td>Movie</td>\n",
              "      <td>Dick Johnson Is Dead</td>\n",
              "      <td>Kirsten Johnson</td>\n",
              "      <td>NaN</td>\n",
              "      <td>United States</td>\n",
              "      <td>2021-09-25</td>\n",
              "      <td>2020</td>\n",
              "      <td>PG-13</td>\n",
              "      <td>90 min</td>\n",
              "      <td>Documentaries</td>\n",
              "      <td>As her father nears the end of his life, filmm...</td>\n",
              "    </tr>\n",
              "    <tr>\n",
              "      <th>1</th>\n",
              "      <td>s2</td>\n",
              "      <td>TV Show</td>\n",
              "      <td>Blood &amp; Water</td>\n",
              "      <td>NaN</td>\n",
              "      <td>Ama Qamata, Khosi Ngema, Gail Mabalane, Thaban...</td>\n",
              "      <td>South Africa</td>\n",
              "      <td>2021-09-24</td>\n",
              "      <td>2021</td>\n",
              "      <td>TV-MA</td>\n",
              "      <td>2 Seasons</td>\n",
              "      <td>International TV Shows, TV Dramas, TV Mysteries</td>\n",
              "      <td>After crossing paths at a party, a Cape Town t...</td>\n",
              "    </tr>\n",
              "    <tr>\n",
              "      <th>2</th>\n",
              "      <td>s3</td>\n",
              "      <td>TV Show</td>\n",
              "      <td>Ganglands</td>\n",
              "      <td>Julien Leclercq</td>\n",
              "      <td>Sami Bouajila, Tracy Gotoas, Samuel Jouy, Nabi...</td>\n",
              "      <td>NaN</td>\n",
              "      <td>2021-09-24</td>\n",
              "      <td>2021</td>\n",
              "      <td>TV-MA</td>\n",
              "      <td>1 Season</td>\n",
              "      <td>Crime TV Shows, International TV Shows, TV Act...</td>\n",
              "      <td>To protect his family from a powerful drug lor...</td>\n",
              "    </tr>\n",
              "    <tr>\n",
              "      <th>3</th>\n",
              "      <td>s4</td>\n",
              "      <td>TV Show</td>\n",
              "      <td>Jailbirds New Orleans</td>\n",
              "      <td>NaN</td>\n",
              "      <td>NaN</td>\n",
              "      <td>NaN</td>\n",
              "      <td>2021-09-24</td>\n",
              "      <td>2021</td>\n",
              "      <td>TV-MA</td>\n",
              "      <td>1 Season</td>\n",
              "      <td>Docuseries, Reality TV</td>\n",
              "      <td>Feuds, flirtations and toilet talk go down amo...</td>\n",
              "    </tr>\n",
              "    <tr>\n",
              "      <th>4</th>\n",
              "      <td>s5</td>\n",
              "      <td>TV Show</td>\n",
              "      <td>Kota Factory</td>\n",
              "      <td>NaN</td>\n",
              "      <td>Mayur More, Jitendra Kumar, Ranjan Raj, Alam K...</td>\n",
              "      <td>India</td>\n",
              "      <td>2021-09-24</td>\n",
              "      <td>2021</td>\n",
              "      <td>TV-MA</td>\n",
              "      <td>2 Seasons</td>\n",
              "      <td>International TV Shows, Romantic TV Shows, TV ...</td>\n",
              "      <td>In a city of coaching centers known to train I...</td>\n",
              "    </tr>\n",
              "  </tbody>\n",
              "</table>\n",
              "</div>"
            ],
            "text/plain": [
              "  show_id     type                  title         director  \\\n",
              "0      s1    Movie   Dick Johnson Is Dead  Kirsten Johnson   \n",
              "1      s2  TV Show          Blood & Water              NaN   \n",
              "2      s3  TV Show              Ganglands  Julien Leclercq   \n",
              "3      s4  TV Show  Jailbirds New Orleans              NaN   \n",
              "4      s5  TV Show           Kota Factory              NaN   \n",
              "\n",
              "                                                cast        country  \\\n",
              "0                                                NaN  United States   \n",
              "1  Ama Qamata, Khosi Ngema, Gail Mabalane, Thaban...   South Africa   \n",
              "2  Sami Bouajila, Tracy Gotoas, Samuel Jouy, Nabi...            NaN   \n",
              "3                                                NaN            NaN   \n",
              "4  Mayur More, Jitendra Kumar, Ranjan Raj, Alam K...          India   \n",
              "\n",
              "   date_added  release_year rating   duration  \\\n",
              "0  2021-09-25          2020  PG-13     90 min   \n",
              "1  2021-09-24          2021  TV-MA  2 Seasons   \n",
              "2  2021-09-24          2021  TV-MA   1 Season   \n",
              "3  2021-09-24          2021  TV-MA   1 Season   \n",
              "4  2021-09-24          2021  TV-MA  2 Seasons   \n",
              "\n",
              "                                           listed_in  \\\n",
              "0                                      Documentaries   \n",
              "1    International TV Shows, TV Dramas, TV Mysteries   \n",
              "2  Crime TV Shows, International TV Shows, TV Act...   \n",
              "3                             Docuseries, Reality TV   \n",
              "4  International TV Shows, Romantic TV Shows, TV ...   \n",
              "\n",
              "                                         description  \n",
              "0  As her father nears the end of his life, filmm...  \n",
              "1  After crossing paths at a party, a Cape Town t...  \n",
              "2  To protect his family from a powerful drug lor...  \n",
              "3  Feuds, flirtations and toilet talk go down amo...  \n",
              "4  In a city of coaching centers known to train I...  "
            ]
          },
          "execution_count": 8,
          "metadata": {},
          "output_type": "execute_result"
        }
      ],
      "source": [
        "dataset.head()"
      ]
    },
    {
      "cell_type": "markdown",
      "metadata": {
        "id": "D2nrTOqJGeNC"
      },
      "source": [
        "\n",
        "So here, we first checked the values of the date_added column, which contains date values but was detected as an object data type. Then, we converted the data format to dt.date for a better match the context and data processing needs. It can be seen that the contents of the date_added column are now in the correct year-month-day format."
      ]
    },
    {
      "cell_type": "markdown",
      "metadata": {
        "id": "I_iUN7vUq0tR"
      },
      "source": [
        "### Remove Identifier Column"
      ]
    },
    {
      "cell_type": "code",
      "execution_count": 9,
      "metadata": {
        "colab": {
          "base_uri": "https://localhost:8080/",
          "height": 909
        },
        "id": "S7Sa1sJaq-vA",
        "outputId": "8de517e0-70c2-4b5f-d346-c8207892b21c"
      },
      "outputs": [
        {
          "data": {
            "text/html": [
              "<div>\n",
              "<style scoped>\n",
              "    .dataframe tbody tr th:only-of-type {\n",
              "        vertical-align: middle;\n",
              "    }\n",
              "\n",
              "    .dataframe tbody tr th {\n",
              "        vertical-align: top;\n",
              "    }\n",
              "\n",
              "    .dataframe thead th {\n",
              "        text-align: right;\n",
              "    }\n",
              "</style>\n",
              "<table border=\"1\" class=\"dataframe\">\n",
              "  <thead>\n",
              "    <tr style=\"text-align: right;\">\n",
              "      <th></th>\n",
              "      <th>type</th>\n",
              "      <th>title</th>\n",
              "      <th>director</th>\n",
              "      <th>cast</th>\n",
              "      <th>country</th>\n",
              "      <th>date_added</th>\n",
              "      <th>release_year</th>\n",
              "      <th>rating</th>\n",
              "      <th>duration</th>\n",
              "      <th>listed_in</th>\n",
              "      <th>description</th>\n",
              "    </tr>\n",
              "  </thead>\n",
              "  <tbody>\n",
              "    <tr>\n",
              "      <th>0</th>\n",
              "      <td>Movie</td>\n",
              "      <td>Dick Johnson Is Dead</td>\n",
              "      <td>Kirsten Johnson</td>\n",
              "      <td>NaN</td>\n",
              "      <td>United States</td>\n",
              "      <td>2021-09-25</td>\n",
              "      <td>2020</td>\n",
              "      <td>PG-13</td>\n",
              "      <td>90 min</td>\n",
              "      <td>Documentaries</td>\n",
              "      <td>As her father nears the end of his life, filmm...</td>\n",
              "    </tr>\n",
              "    <tr>\n",
              "      <th>1</th>\n",
              "      <td>TV Show</td>\n",
              "      <td>Blood &amp; Water</td>\n",
              "      <td>NaN</td>\n",
              "      <td>Ama Qamata, Khosi Ngema, Gail Mabalane, Thaban...</td>\n",
              "      <td>South Africa</td>\n",
              "      <td>2021-09-24</td>\n",
              "      <td>2021</td>\n",
              "      <td>TV-MA</td>\n",
              "      <td>2 Seasons</td>\n",
              "      <td>International TV Shows, TV Dramas, TV Mysteries</td>\n",
              "      <td>After crossing paths at a party, a Cape Town t...</td>\n",
              "    </tr>\n",
              "    <tr>\n",
              "      <th>2</th>\n",
              "      <td>TV Show</td>\n",
              "      <td>Ganglands</td>\n",
              "      <td>Julien Leclercq</td>\n",
              "      <td>Sami Bouajila, Tracy Gotoas, Samuel Jouy, Nabi...</td>\n",
              "      <td>NaN</td>\n",
              "      <td>2021-09-24</td>\n",
              "      <td>2021</td>\n",
              "      <td>TV-MA</td>\n",
              "      <td>1 Season</td>\n",
              "      <td>Crime TV Shows, International TV Shows, TV Act...</td>\n",
              "      <td>To protect his family from a powerful drug lor...</td>\n",
              "    </tr>\n",
              "    <tr>\n",
              "      <th>3</th>\n",
              "      <td>TV Show</td>\n",
              "      <td>Jailbirds New Orleans</td>\n",
              "      <td>NaN</td>\n",
              "      <td>NaN</td>\n",
              "      <td>NaN</td>\n",
              "      <td>2021-09-24</td>\n",
              "      <td>2021</td>\n",
              "      <td>TV-MA</td>\n",
              "      <td>1 Season</td>\n",
              "      <td>Docuseries, Reality TV</td>\n",
              "      <td>Feuds, flirtations and toilet talk go down amo...</td>\n",
              "    </tr>\n",
              "    <tr>\n",
              "      <th>4</th>\n",
              "      <td>TV Show</td>\n",
              "      <td>Kota Factory</td>\n",
              "      <td>NaN</td>\n",
              "      <td>Mayur More, Jitendra Kumar, Ranjan Raj, Alam K...</td>\n",
              "      <td>India</td>\n",
              "      <td>2021-09-24</td>\n",
              "      <td>2021</td>\n",
              "      <td>TV-MA</td>\n",
              "      <td>2 Seasons</td>\n",
              "      <td>International TV Shows, Romantic TV Shows, TV ...</td>\n",
              "      <td>In a city of coaching centers known to train I...</td>\n",
              "    </tr>\n",
              "    <tr>\n",
              "      <th>...</th>\n",
              "      <td>...</td>\n",
              "      <td>...</td>\n",
              "      <td>...</td>\n",
              "      <td>...</td>\n",
              "      <td>...</td>\n",
              "      <td>...</td>\n",
              "      <td>...</td>\n",
              "      <td>...</td>\n",
              "      <td>...</td>\n",
              "      <td>...</td>\n",
              "      <td>...</td>\n",
              "    </tr>\n",
              "    <tr>\n",
              "      <th>8802</th>\n",
              "      <td>Movie</td>\n",
              "      <td>Zodiac</td>\n",
              "      <td>David Fincher</td>\n",
              "      <td>Mark Ruffalo, Jake Gyllenhaal, Robert Downey J...</td>\n",
              "      <td>United States</td>\n",
              "      <td>2019-11-20</td>\n",
              "      <td>2007</td>\n",
              "      <td>R</td>\n",
              "      <td>158 min</td>\n",
              "      <td>Cult Movies, Dramas, Thrillers</td>\n",
              "      <td>A political cartoonist, a crime reporter and a...</td>\n",
              "    </tr>\n",
              "    <tr>\n",
              "      <th>8803</th>\n",
              "      <td>TV Show</td>\n",
              "      <td>Zombie Dumb</td>\n",
              "      <td>NaN</td>\n",
              "      <td>NaN</td>\n",
              "      <td>NaN</td>\n",
              "      <td>2019-07-01</td>\n",
              "      <td>2018</td>\n",
              "      <td>TV-Y7</td>\n",
              "      <td>2 Seasons</td>\n",
              "      <td>Kids' TV, Korean TV Shows, TV Comedies</td>\n",
              "      <td>While living alone in a spooky town, a young g...</td>\n",
              "    </tr>\n",
              "    <tr>\n",
              "      <th>8804</th>\n",
              "      <td>Movie</td>\n",
              "      <td>Zombieland</td>\n",
              "      <td>Ruben Fleischer</td>\n",
              "      <td>Jesse Eisenberg, Woody Harrelson, Emma Stone, ...</td>\n",
              "      <td>United States</td>\n",
              "      <td>2019-11-01</td>\n",
              "      <td>2009</td>\n",
              "      <td>R</td>\n",
              "      <td>88 min</td>\n",
              "      <td>Comedies, Horror Movies</td>\n",
              "      <td>Looking to survive in a world taken over by zo...</td>\n",
              "    </tr>\n",
              "    <tr>\n",
              "      <th>8805</th>\n",
              "      <td>Movie</td>\n",
              "      <td>Zoom</td>\n",
              "      <td>Peter Hewitt</td>\n",
              "      <td>Tim Allen, Courteney Cox, Chevy Chase, Kate Ma...</td>\n",
              "      <td>United States</td>\n",
              "      <td>2020-01-11</td>\n",
              "      <td>2006</td>\n",
              "      <td>PG</td>\n",
              "      <td>88 min</td>\n",
              "      <td>Children &amp; Family Movies, Comedies</td>\n",
              "      <td>Dragged from civilian life, a former superhero...</td>\n",
              "    </tr>\n",
              "    <tr>\n",
              "      <th>8806</th>\n",
              "      <td>Movie</td>\n",
              "      <td>Zubaan</td>\n",
              "      <td>Mozez Singh</td>\n",
              "      <td>Vicky Kaushal, Sarah-Jane Dias, Raaghav Chanan...</td>\n",
              "      <td>India</td>\n",
              "      <td>2019-03-02</td>\n",
              "      <td>2015</td>\n",
              "      <td>TV-14</td>\n",
              "      <td>111 min</td>\n",
              "      <td>Dramas, International Movies, Music &amp; Musicals</td>\n",
              "      <td>A scrappy but poor boy worms his way into a ty...</td>\n",
              "    </tr>\n",
              "  </tbody>\n",
              "</table>\n",
              "<p>8807 rows × 11 columns</p>\n",
              "</div>"
            ],
            "text/plain": [
              "         type                  title         director  \\\n",
              "0       Movie   Dick Johnson Is Dead  Kirsten Johnson   \n",
              "1     TV Show          Blood & Water              NaN   \n",
              "2     TV Show              Ganglands  Julien Leclercq   \n",
              "3     TV Show  Jailbirds New Orleans              NaN   \n",
              "4     TV Show           Kota Factory              NaN   \n",
              "...       ...                    ...              ...   \n",
              "8802    Movie                 Zodiac    David Fincher   \n",
              "8803  TV Show            Zombie Dumb              NaN   \n",
              "8804    Movie             Zombieland  Ruben Fleischer   \n",
              "8805    Movie                   Zoom     Peter Hewitt   \n",
              "8806    Movie                 Zubaan      Mozez Singh   \n",
              "\n",
              "                                                   cast        country  \\\n",
              "0                                                   NaN  United States   \n",
              "1     Ama Qamata, Khosi Ngema, Gail Mabalane, Thaban...   South Africa   \n",
              "2     Sami Bouajila, Tracy Gotoas, Samuel Jouy, Nabi...            NaN   \n",
              "3                                                   NaN            NaN   \n",
              "4     Mayur More, Jitendra Kumar, Ranjan Raj, Alam K...          India   \n",
              "...                                                 ...            ...   \n",
              "8802  Mark Ruffalo, Jake Gyllenhaal, Robert Downey J...  United States   \n",
              "8803                                                NaN            NaN   \n",
              "8804  Jesse Eisenberg, Woody Harrelson, Emma Stone, ...  United States   \n",
              "8805  Tim Allen, Courteney Cox, Chevy Chase, Kate Ma...  United States   \n",
              "8806  Vicky Kaushal, Sarah-Jane Dias, Raaghav Chanan...          India   \n",
              "\n",
              "      date_added  release_year rating   duration  \\\n",
              "0     2021-09-25          2020  PG-13     90 min   \n",
              "1     2021-09-24          2021  TV-MA  2 Seasons   \n",
              "2     2021-09-24          2021  TV-MA   1 Season   \n",
              "3     2021-09-24          2021  TV-MA   1 Season   \n",
              "4     2021-09-24          2021  TV-MA  2 Seasons   \n",
              "...          ...           ...    ...        ...   \n",
              "8802  2019-11-20          2007      R    158 min   \n",
              "8803  2019-07-01          2018  TV-Y7  2 Seasons   \n",
              "8804  2019-11-01          2009      R     88 min   \n",
              "8805  2020-01-11          2006     PG     88 min   \n",
              "8806  2019-03-02          2015  TV-14    111 min   \n",
              "\n",
              "                                              listed_in  \\\n",
              "0                                         Documentaries   \n",
              "1       International TV Shows, TV Dramas, TV Mysteries   \n",
              "2     Crime TV Shows, International TV Shows, TV Act...   \n",
              "3                                Docuseries, Reality TV   \n",
              "4     International TV Shows, Romantic TV Shows, TV ...   \n",
              "...                                                 ...   \n",
              "8802                     Cult Movies, Dramas, Thrillers   \n",
              "8803             Kids' TV, Korean TV Shows, TV Comedies   \n",
              "8804                            Comedies, Horror Movies   \n",
              "8805                 Children & Family Movies, Comedies   \n",
              "8806     Dramas, International Movies, Music & Musicals   \n",
              "\n",
              "                                            description  \n",
              "0     As her father nears the end of his life, filmm...  \n",
              "1     After crossing paths at a party, a Cape Town t...  \n",
              "2     To protect his family from a powerful drug lor...  \n",
              "3     Feuds, flirtations and toilet talk go down amo...  \n",
              "4     In a city of coaching centers known to train I...  \n",
              "...                                                 ...  \n",
              "8802  A political cartoonist, a crime reporter and a...  \n",
              "8803  While living alone in a spooky town, a young g...  \n",
              "8804  Looking to survive in a world taken over by zo...  \n",
              "8805  Dragged from civilian life, a former superhero...  \n",
              "8806  A scrappy but poor boy worms his way into a ty...  \n",
              "\n",
              "[8807 rows x 11 columns]"
            ]
          },
          "execution_count": 9,
          "metadata": {},
          "output_type": "execute_result"
        }
      ],
      "source": [
        "dataset.drop(columns=['show_id'], inplace=True)\n",
        "dataset"
      ]
    },
    {
      "cell_type": "markdown",
      "metadata": {
        "id": "Cch_M94zscj5"
      },
      "source": [
        "\n",
        "\n",
        "Since the show_id column serves as an identifier, it will not be used for modeling process later. Therefore, we decided to drop it from the beginning. Additionally, having this type of ID column can make it more difficult to detect duplicates in the data. Now we can see the total columns is 11."
      ]
    },
    {
      "cell_type": "markdown",
      "metadata": {
        "id": "Z9djsyVFmgQ6"
      },
      "source": [
        "### Column Values Checking and Fixing"
      ]
    },
    {
      "cell_type": "code",
      "execution_count": 10,
      "metadata": {
        "colab": {
          "base_uri": "https://localhost:8080/"
        },
        "id": "58KtvUW_nTRX",
        "outputId": "af0a8ea4-2ca7-4338-f7a6-f08f1266e36b"
      },
      "outputs": [
        {
          "name": "stdout",
          "output_type": "stream",
          "text": [
            "type\n",
            "Movie      6131\n",
            "TV Show    2676\n",
            "Name: count, dtype: int64 \n",
            "\n",
            "title\n",
            "Dick Johnson Is Dead                     1\n",
            "Ip Man 2                                 1\n",
            "Hannibal Buress: Comedy Camisado         1\n",
            "Turbo FAST                               1\n",
            "Masha's Tales                            1\n",
            "                                        ..\n",
            "Love for Sale 2                          1\n",
            "ROAD TO ROMA                             1\n",
            "Good Time                                1\n",
            "Captain Underpants Epic Choice-o-Rama    1\n",
            "Zubaan                                   1\n",
            "Name: count, Length: 8807, dtype: int64 \n",
            "\n",
            "director\n",
            "Rajiv Chilaka                     19\n",
            "Raúl Campos, Jan Suter            18\n",
            "Marcus Raboy                      16\n",
            "Suhas Kadav                       16\n",
            "Jay Karas                         14\n",
            "                                  ..\n",
            "Raymie Muzquiz, Stu Livingston     1\n",
            "Joe Menendez                       1\n",
            "Eric Bross                         1\n",
            "Will Eisenberg                     1\n",
            "Mozez Singh                        1\n",
            "Name: count, Length: 4528, dtype: int64 \n",
            "\n",
            "cast\n",
            "David Attenborough                                                                                                                                                                            19\n",
            "Vatsal Dubey, Julie Tejwani, Rupa Bhimani, Jigna Bhardwaj, Rajesh Kava, Mousam, Swapnil                                                                                                       14\n",
            "Samuel West                                                                                                                                                                                   10\n",
            "Jeff Dunham                                                                                                                                                                                    7\n",
            "David Spade, London Hughes, Fortune Feimster                                                                                                                                                   6\n",
            "                                                                                                                                                                                              ..\n",
            "Michael Peña, Diego Luna, Tenoch Huerta, Joaquin Cosio, José María Yazpik, Matt Letscher, Alyssa Diaz                                                                                          1\n",
            "Nick Lachey, Vanessa Lachey                                                                                                                                                                    1\n",
            "Takeru Sato, Kasumi Arimura, Haru, Kentaro Sakaguchi, Takayuki Yamada, Kendo Kobayashi, Ken Yasuda, Arata Furuta, Suzuki Matsuo, Koichi Yamadera, Arata Iura, Chikako Kaku, Kotaro Yoshida     1\n",
            "Toyin Abraham, Sambasa Nzeribe, Chioma Chukwuka Akpotha, Chioma Omeruah, Chiwetalu Agu, Dele Odule, Femi Adebayo, Bayray McNwizu, Biodun Stephen                                               1\n",
            "Vicky Kaushal, Sarah-Jane Dias, Raaghav Chanana, Manish Chaudhary, Meghna Malik, Malkeet Rauni, Anita Shabdish, Chittaranjan Tripathy                                                          1\n",
            "Name: count, Length: 7692, dtype: int64 \n",
            "\n",
            "country\n",
            "United States                             2818\n",
            "India                                      972\n",
            "United Kingdom                             419\n",
            "Japan                                      245\n",
            "South Korea                                199\n",
            "                                          ... \n",
            "Romania, Bulgaria, Hungary                   1\n",
            "Uruguay, Guatemala                           1\n",
            "France, Senegal, Belgium                     1\n",
            "Mexico, United States, Spain, Colombia       1\n",
            "United Arab Emirates, Jordan                 1\n",
            "Name: count, Length: 748, dtype: int64 \n",
            "\n",
            "date_added\n",
            "2020-01-01    109\n",
            "2019-11-01     89\n",
            "2018-03-01     75\n",
            "2019-12-31     74\n",
            "2018-10-01     71\n",
            "             ... \n",
            "2017-04-04      1\n",
            "2017-03-28      1\n",
            "2017-03-07      1\n",
            "2017-02-27      1\n",
            "2020-01-11      1\n",
            "Name: count, Length: 1699, dtype: int64 \n",
            "\n",
            "release_year\n",
            "2018    1147\n",
            "2017    1032\n",
            "2019    1030\n",
            "2020     953\n",
            "2016     902\n",
            "        ... \n",
            "1959       1\n",
            "1925       1\n",
            "1961       1\n",
            "1947       1\n",
            "1966       1\n",
            "Name: count, Length: 74, dtype: int64 \n",
            "\n",
            "rating\n",
            "TV-MA       3207\n",
            "TV-14       2160\n",
            "TV-PG        863\n",
            "R            799\n",
            "PG-13        490\n",
            "TV-Y7        334\n",
            "TV-Y         307\n",
            "PG           287\n",
            "TV-G         220\n",
            "NR            80\n",
            "G             41\n",
            "TV-Y7-FV       6\n",
            "NC-17          3\n",
            "UR             3\n",
            "74 min         1\n",
            "84 min         1\n",
            "66 min         1\n",
            "Name: count, dtype: int64 \n",
            "\n",
            "duration\n",
            "1 Season     1793\n",
            "2 Seasons     425\n",
            "3 Seasons     199\n",
            "90 min        152\n",
            "94 min        146\n",
            "             ... \n",
            "16 min          1\n",
            "186 min         1\n",
            "193 min         1\n",
            "189 min         1\n",
            "191 min         1\n",
            "Name: count, Length: 220, dtype: int64 \n",
            "\n",
            "listed_in\n",
            "Dramas, International Movies                          362\n",
            "Documentaries                                         359\n",
            "Stand-Up Comedy                                       334\n",
            "Comedies, Dramas, International Movies                274\n",
            "Dramas, Independent Movies, International Movies      252\n",
            "                                                     ... \n",
            "Kids' TV, TV Action & Adventure, TV Dramas              1\n",
            "TV Comedies, TV Dramas, TV Horror                       1\n",
            "Children & Family Movies, Comedies, LGBTQ Movies        1\n",
            "Kids' TV, Spanish-Language TV Shows, Teen TV Shows      1\n",
            "Cult Movies, Dramas, Thrillers                          1\n",
            "Name: count, Length: 514, dtype: int64 \n",
            "\n",
            "description\n",
            "Paranormal activity at a lush, abandoned property alarms a group eager to redevelop the site, but the eerie events may not be as unearthly as they think.    4\n",
            "Challenged to compose 100 songs before he can marry the girl he loves, a tortured but passionate singer-songwriter embarks on a poignant musical journey.    3\n",
            "A surly septuagenarian gets another chance at her 20s after having her photo snapped at a studio that magically takes 50 years off her life.                 3\n",
            "Multiple women report their husbands as missing but when it appears they are looking for the same man, a police officer traces their cryptic connection.     3\n",
            "Secrets bubble to the surface after a sensual encounter and an unforeseen crime entangle two friends and a woman caught between them.                        2\n",
            "                                                                                                                                                            ..\n",
            "Sent away to evade an arranged marriage, a 14-year-old begins a harrowing journey of sex work and poverty in the slums of Accra.                             1\n",
            "When his partner in crime goes missing, a small-time crook’s life is transformed as he dedicates himself to raising the daughter his friend left behind.     1\n",
            "During 1962’s Cuban missile crisis, a troubled math genius finds himself drafted to play in a U.S.-Soviet chess match – and a deadly game of espionage.      1\n",
            "A teen's discovery of a vintage Polaroid camera develops into a darker tale when she finds that whoever takes their photo with it dies soon afterward.       1\n",
            "A scrappy but poor boy worms his way into a tycoon's dysfunctional family, while facing his fear of music and the truth about his past.                      1\n",
            "Name: count, Length: 8775, dtype: int64 \n",
            "\n"
          ]
        }
      ],
      "source": [
        "for i in dataset.columns:\n",
        "    print(dataset[i].value_counts(), \"\\n\")"
      ]
    },
    {
      "cell_type": "code",
      "execution_count": 11,
      "metadata": {
        "id": "IjUq7Ja5GWOd"
      },
      "outputs": [],
      "source": [
        "dataset = dataset.drop(dataset[dataset['rating'] == '74 min'].index)\n",
        "dataset = dataset.drop(dataset[dataset['rating'] == '84 min'].index)\n",
        "dataset = dataset.drop(dataset[dataset['rating'] == '66 min'].index)"
      ]
    },
    {
      "cell_type": "code",
      "execution_count": 12,
      "metadata": {
        "colab": {
          "base_uri": "https://localhost:8080/",
          "height": 909
        },
        "id": "cR49jyxPmsbA",
        "outputId": "3956276d-26fb-4ab1-bd79-173d5cd23758"
      },
      "outputs": [
        {
          "data": {
            "text/html": [
              "<div>\n",
              "<style scoped>\n",
              "    .dataframe tbody tr th:only-of-type {\n",
              "        vertical-align: middle;\n",
              "    }\n",
              "\n",
              "    .dataframe tbody tr th {\n",
              "        vertical-align: top;\n",
              "    }\n",
              "\n",
              "    .dataframe thead th {\n",
              "        text-align: right;\n",
              "    }\n",
              "</style>\n",
              "<table border=\"1\" class=\"dataframe\">\n",
              "  <thead>\n",
              "    <tr style=\"text-align: right;\">\n",
              "      <th></th>\n",
              "      <th>type</th>\n",
              "      <th>title</th>\n",
              "      <th>director</th>\n",
              "      <th>cast</th>\n",
              "      <th>country</th>\n",
              "      <th>date_added</th>\n",
              "      <th>release_year</th>\n",
              "      <th>rating</th>\n",
              "      <th>duration</th>\n",
              "      <th>listed_in</th>\n",
              "      <th>description</th>\n",
              "    </tr>\n",
              "  </thead>\n",
              "  <tbody>\n",
              "    <tr>\n",
              "      <th>0</th>\n",
              "      <td>Movie</td>\n",
              "      <td>Dick Johnson Is Dead</td>\n",
              "      <td>Kirsten Johnson</td>\n",
              "      <td>NaN</td>\n",
              "      <td>United States</td>\n",
              "      <td>2021-09-25</td>\n",
              "      <td>2020</td>\n",
              "      <td>PG-13</td>\n",
              "      <td>90 min</td>\n",
              "      <td>Documentaries</td>\n",
              "      <td>As her father nears the end of his life, filmm...</td>\n",
              "    </tr>\n",
              "    <tr>\n",
              "      <th>1</th>\n",
              "      <td>TV Show</td>\n",
              "      <td>Blood &amp; Water</td>\n",
              "      <td>NaN</td>\n",
              "      <td>Ama Qamata, Khosi Ngema, Gail Mabalane, Thaban...</td>\n",
              "      <td>South Africa</td>\n",
              "      <td>2021-09-24</td>\n",
              "      <td>2021</td>\n",
              "      <td>TV-MA</td>\n",
              "      <td>2 Seasons</td>\n",
              "      <td>International TV Shows, TV Dramas, TV Mysteries</td>\n",
              "      <td>After crossing paths at a party, a Cape Town t...</td>\n",
              "    </tr>\n",
              "    <tr>\n",
              "      <th>2</th>\n",
              "      <td>TV Show</td>\n",
              "      <td>Ganglands</td>\n",
              "      <td>Julien Leclercq</td>\n",
              "      <td>Sami Bouajila, Tracy Gotoas, Samuel Jouy, Nabi...</td>\n",
              "      <td>NaN</td>\n",
              "      <td>2021-09-24</td>\n",
              "      <td>2021</td>\n",
              "      <td>TV-MA</td>\n",
              "      <td>1 Season</td>\n",
              "      <td>Crime TV Shows, International TV Shows, TV Act...</td>\n",
              "      <td>To protect his family from a powerful drug lor...</td>\n",
              "    </tr>\n",
              "    <tr>\n",
              "      <th>3</th>\n",
              "      <td>TV Show</td>\n",
              "      <td>Jailbirds New Orleans</td>\n",
              "      <td>NaN</td>\n",
              "      <td>NaN</td>\n",
              "      <td>NaN</td>\n",
              "      <td>2021-09-24</td>\n",
              "      <td>2021</td>\n",
              "      <td>TV-MA</td>\n",
              "      <td>1 Season</td>\n",
              "      <td>Docuseries, Reality TV</td>\n",
              "      <td>Feuds, flirtations and toilet talk go down amo...</td>\n",
              "    </tr>\n",
              "    <tr>\n",
              "      <th>4</th>\n",
              "      <td>TV Show</td>\n",
              "      <td>Kota Factory</td>\n",
              "      <td>NaN</td>\n",
              "      <td>Mayur More, Jitendra Kumar, Ranjan Raj, Alam K...</td>\n",
              "      <td>India</td>\n",
              "      <td>2021-09-24</td>\n",
              "      <td>2021</td>\n",
              "      <td>TV-MA</td>\n",
              "      <td>2 Seasons</td>\n",
              "      <td>International TV Shows, Romantic TV Shows, TV ...</td>\n",
              "      <td>In a city of coaching centers known to train I...</td>\n",
              "    </tr>\n",
              "    <tr>\n",
              "      <th>...</th>\n",
              "      <td>...</td>\n",
              "      <td>...</td>\n",
              "      <td>...</td>\n",
              "      <td>...</td>\n",
              "      <td>...</td>\n",
              "      <td>...</td>\n",
              "      <td>...</td>\n",
              "      <td>...</td>\n",
              "      <td>...</td>\n",
              "      <td>...</td>\n",
              "      <td>...</td>\n",
              "    </tr>\n",
              "    <tr>\n",
              "      <th>8802</th>\n",
              "      <td>Movie</td>\n",
              "      <td>Zodiac</td>\n",
              "      <td>David Fincher</td>\n",
              "      <td>Mark Ruffalo, Jake Gyllenhaal, Robert Downey J...</td>\n",
              "      <td>United States</td>\n",
              "      <td>2019-11-20</td>\n",
              "      <td>2007</td>\n",
              "      <td>R</td>\n",
              "      <td>158 min</td>\n",
              "      <td>Cult Movies, Dramas, Thrillers</td>\n",
              "      <td>A political cartoonist, a crime reporter and a...</td>\n",
              "    </tr>\n",
              "    <tr>\n",
              "      <th>8803</th>\n",
              "      <td>TV Show</td>\n",
              "      <td>Zombie Dumb</td>\n",
              "      <td>NaN</td>\n",
              "      <td>NaN</td>\n",
              "      <td>NaN</td>\n",
              "      <td>2019-07-01</td>\n",
              "      <td>2018</td>\n",
              "      <td>TV-Y7</td>\n",
              "      <td>2 Seasons</td>\n",
              "      <td>Kids' TV, Korean TV Shows, TV Comedies</td>\n",
              "      <td>While living alone in a spooky town, a young g...</td>\n",
              "    </tr>\n",
              "    <tr>\n",
              "      <th>8804</th>\n",
              "      <td>Movie</td>\n",
              "      <td>Zombieland</td>\n",
              "      <td>Ruben Fleischer</td>\n",
              "      <td>Jesse Eisenberg, Woody Harrelson, Emma Stone, ...</td>\n",
              "      <td>United States</td>\n",
              "      <td>2019-11-01</td>\n",
              "      <td>2009</td>\n",
              "      <td>R</td>\n",
              "      <td>88 min</td>\n",
              "      <td>Comedies, Horror Movies</td>\n",
              "      <td>Looking to survive in a world taken over by zo...</td>\n",
              "    </tr>\n",
              "    <tr>\n",
              "      <th>8805</th>\n",
              "      <td>Movie</td>\n",
              "      <td>Zoom</td>\n",
              "      <td>Peter Hewitt</td>\n",
              "      <td>Tim Allen, Courteney Cox, Chevy Chase, Kate Ma...</td>\n",
              "      <td>United States</td>\n",
              "      <td>2020-01-11</td>\n",
              "      <td>2006</td>\n",
              "      <td>PG</td>\n",
              "      <td>88 min</td>\n",
              "      <td>Children &amp; Family Movies, Comedies</td>\n",
              "      <td>Dragged from civilian life, a former superhero...</td>\n",
              "    </tr>\n",
              "    <tr>\n",
              "      <th>8806</th>\n",
              "      <td>Movie</td>\n",
              "      <td>Zubaan</td>\n",
              "      <td>Mozez Singh</td>\n",
              "      <td>Vicky Kaushal, Sarah-Jane Dias, Raaghav Chanan...</td>\n",
              "      <td>India</td>\n",
              "      <td>2019-03-02</td>\n",
              "      <td>2015</td>\n",
              "      <td>TV-14</td>\n",
              "      <td>111 min</td>\n",
              "      <td>Dramas, International Movies, Music &amp; Musicals</td>\n",
              "      <td>A scrappy but poor boy worms his way into a ty...</td>\n",
              "    </tr>\n",
              "  </tbody>\n",
              "</table>\n",
              "<p>8804 rows × 11 columns</p>\n",
              "</div>"
            ],
            "text/plain": [
              "         type                  title         director  \\\n",
              "0       Movie   Dick Johnson Is Dead  Kirsten Johnson   \n",
              "1     TV Show          Blood & Water              NaN   \n",
              "2     TV Show              Ganglands  Julien Leclercq   \n",
              "3     TV Show  Jailbirds New Orleans              NaN   \n",
              "4     TV Show           Kota Factory              NaN   \n",
              "...       ...                    ...              ...   \n",
              "8802    Movie                 Zodiac    David Fincher   \n",
              "8803  TV Show            Zombie Dumb              NaN   \n",
              "8804    Movie             Zombieland  Ruben Fleischer   \n",
              "8805    Movie                   Zoom     Peter Hewitt   \n",
              "8806    Movie                 Zubaan      Mozez Singh   \n",
              "\n",
              "                                                   cast        country  \\\n",
              "0                                                   NaN  United States   \n",
              "1     Ama Qamata, Khosi Ngema, Gail Mabalane, Thaban...   South Africa   \n",
              "2     Sami Bouajila, Tracy Gotoas, Samuel Jouy, Nabi...            NaN   \n",
              "3                                                   NaN            NaN   \n",
              "4     Mayur More, Jitendra Kumar, Ranjan Raj, Alam K...          India   \n",
              "...                                                 ...            ...   \n",
              "8802  Mark Ruffalo, Jake Gyllenhaal, Robert Downey J...  United States   \n",
              "8803                                                NaN            NaN   \n",
              "8804  Jesse Eisenberg, Woody Harrelson, Emma Stone, ...  United States   \n",
              "8805  Tim Allen, Courteney Cox, Chevy Chase, Kate Ma...  United States   \n",
              "8806  Vicky Kaushal, Sarah-Jane Dias, Raaghav Chanan...          India   \n",
              "\n",
              "      date_added  release_year rating   duration  \\\n",
              "0     2021-09-25          2020  PG-13     90 min   \n",
              "1     2021-09-24          2021  TV-MA  2 Seasons   \n",
              "2     2021-09-24          2021  TV-MA   1 Season   \n",
              "3     2021-09-24          2021  TV-MA   1 Season   \n",
              "4     2021-09-24          2021  TV-MA  2 Seasons   \n",
              "...          ...           ...    ...        ...   \n",
              "8802  2019-11-20          2007      R    158 min   \n",
              "8803  2019-07-01          2018  TV-Y7  2 Seasons   \n",
              "8804  2019-11-01          2009      R     88 min   \n",
              "8805  2020-01-11          2006     PG     88 min   \n",
              "8806  2019-03-02          2015  TV-14    111 min   \n",
              "\n",
              "                                              listed_in  \\\n",
              "0                                         Documentaries   \n",
              "1       International TV Shows, TV Dramas, TV Mysteries   \n",
              "2     Crime TV Shows, International TV Shows, TV Act...   \n",
              "3                                Docuseries, Reality TV   \n",
              "4     International TV Shows, Romantic TV Shows, TV ...   \n",
              "...                                                 ...   \n",
              "8802                     Cult Movies, Dramas, Thrillers   \n",
              "8803             Kids' TV, Korean TV Shows, TV Comedies   \n",
              "8804                            Comedies, Horror Movies   \n",
              "8805                 Children & Family Movies, Comedies   \n",
              "8806     Dramas, International Movies, Music & Musicals   \n",
              "\n",
              "                                            description  \n",
              "0     As her father nears the end of his life, filmm...  \n",
              "1     After crossing paths at a party, a Cape Town t...  \n",
              "2     To protect his family from a powerful drug lor...  \n",
              "3     Feuds, flirtations and toilet talk go down amo...  \n",
              "4     In a city of coaching centers known to train I...  \n",
              "...                                                 ...  \n",
              "8802  A political cartoonist, a crime reporter and a...  \n",
              "8803  While living alone in a spooky town, a young g...  \n",
              "8804  Looking to survive in a world taken over by zo...  \n",
              "8805  Dragged from civilian life, a former superhero...  \n",
              "8806  A scrappy but poor boy worms his way into a ty...  \n",
              "\n",
              "[8804 rows x 11 columns]"
            ]
          },
          "execution_count": 12,
          "metadata": {},
          "output_type": "execute_result"
        }
      ],
      "source": [
        "dataset"
      ]
    },
    {
      "cell_type": "code",
      "execution_count": 13,
      "metadata": {
        "colab": {
          "base_uri": "https://localhost:8080/",
          "height": 554
        },
        "id": "ml-_CwfUmtCm",
        "outputId": "1452ca4b-ddb1-4650-f3f8-fbbf8f9728b6"
      },
      "outputs": [
        {
          "data": {
            "text/plain": [
              "rating\n",
              "TV-MA       3207\n",
              "TV-14       2160\n",
              "TV-PG        863\n",
              "R            799\n",
              "PG-13        490\n",
              "TV-Y7        334\n",
              "TV-Y         307\n",
              "PG           287\n",
              "TV-G         220\n",
              "NR            80\n",
              "G             41\n",
              "TV-Y7-FV       6\n",
              "NC-17          3\n",
              "UR             3\n",
              "Name: count, dtype: int64"
            ]
          },
          "execution_count": 13,
          "metadata": {},
          "output_type": "execute_result"
        }
      ],
      "source": [
        "dataset['rating'].value_counts()"
      ]
    },
    {
      "cell_type": "markdown",
      "metadata": {
        "id": "owMrvpzNoKY-"
      },
      "source": [
        "\n",
        "Here, we first checked the contents of each column, and in the rating column, we found a value that was quite different from the others and didn't align with the description of the rating column. Therefore, we decided to drop the row containing this unusual value. It can be seen that the rows have been successfully removed.\n"
      ]
    },
    {
      "cell_type": "markdown",
      "metadata": {
        "id": "IgbOSnJqnlYX"
      },
      "source": [
        "### Remove Unused Columns\n"
      ]
    },
    {
      "cell_type": "code",
      "execution_count": 14,
      "metadata": {
        "colab": {
          "base_uri": "https://localhost:8080/",
          "height": 597
        },
        "id": "-hWinjhXoIBu",
        "outputId": "f47c0e0a-d4a2-4899-dd1c-c7a131d0c965"
      },
      "outputs": [
        {
          "data": {
            "text/html": [
              "<div>\n",
              "<style scoped>\n",
              "    .dataframe tbody tr th:only-of-type {\n",
              "        vertical-align: middle;\n",
              "    }\n",
              "\n",
              "    .dataframe tbody tr th {\n",
              "        vertical-align: top;\n",
              "    }\n",
              "\n",
              "    .dataframe thead th {\n",
              "        text-align: right;\n",
              "    }\n",
              "</style>\n",
              "<table border=\"1\" class=\"dataframe\">\n",
              "  <thead>\n",
              "    <tr style=\"text-align: right;\">\n",
              "      <th></th>\n",
              "      <th>type</th>\n",
              "      <th>title</th>\n",
              "      <th>cast</th>\n",
              "      <th>release_year</th>\n",
              "      <th>rating</th>\n",
              "      <th>listed_in</th>\n",
              "      <th>description</th>\n",
              "    </tr>\n",
              "  </thead>\n",
              "  <tbody>\n",
              "    <tr>\n",
              "      <th>0</th>\n",
              "      <td>Movie</td>\n",
              "      <td>Dick Johnson Is Dead</td>\n",
              "      <td>NaN</td>\n",
              "      <td>2020</td>\n",
              "      <td>PG-13</td>\n",
              "      <td>Documentaries</td>\n",
              "      <td>As her father nears the end of his life, filmm...</td>\n",
              "    </tr>\n",
              "    <tr>\n",
              "      <th>1</th>\n",
              "      <td>TV Show</td>\n",
              "      <td>Blood &amp; Water</td>\n",
              "      <td>Ama Qamata, Khosi Ngema, Gail Mabalane, Thaban...</td>\n",
              "      <td>2021</td>\n",
              "      <td>TV-MA</td>\n",
              "      <td>International TV Shows, TV Dramas, TV Mysteries</td>\n",
              "      <td>After crossing paths at a party, a Cape Town t...</td>\n",
              "    </tr>\n",
              "    <tr>\n",
              "      <th>2</th>\n",
              "      <td>TV Show</td>\n",
              "      <td>Ganglands</td>\n",
              "      <td>Sami Bouajila, Tracy Gotoas, Samuel Jouy, Nabi...</td>\n",
              "      <td>2021</td>\n",
              "      <td>TV-MA</td>\n",
              "      <td>Crime TV Shows, International TV Shows, TV Act...</td>\n",
              "      <td>To protect his family from a powerful drug lor...</td>\n",
              "    </tr>\n",
              "    <tr>\n",
              "      <th>3</th>\n",
              "      <td>TV Show</td>\n",
              "      <td>Jailbirds New Orleans</td>\n",
              "      <td>NaN</td>\n",
              "      <td>2021</td>\n",
              "      <td>TV-MA</td>\n",
              "      <td>Docuseries, Reality TV</td>\n",
              "      <td>Feuds, flirtations and toilet talk go down amo...</td>\n",
              "    </tr>\n",
              "    <tr>\n",
              "      <th>4</th>\n",
              "      <td>TV Show</td>\n",
              "      <td>Kota Factory</td>\n",
              "      <td>Mayur More, Jitendra Kumar, Ranjan Raj, Alam K...</td>\n",
              "      <td>2021</td>\n",
              "      <td>TV-MA</td>\n",
              "      <td>International TV Shows, Romantic TV Shows, TV ...</td>\n",
              "      <td>In a city of coaching centers known to train I...</td>\n",
              "    </tr>\n",
              "    <tr>\n",
              "      <th>...</th>\n",
              "      <td>...</td>\n",
              "      <td>...</td>\n",
              "      <td>...</td>\n",
              "      <td>...</td>\n",
              "      <td>...</td>\n",
              "      <td>...</td>\n",
              "      <td>...</td>\n",
              "    </tr>\n",
              "    <tr>\n",
              "      <th>8802</th>\n",
              "      <td>Movie</td>\n",
              "      <td>Zodiac</td>\n",
              "      <td>Mark Ruffalo, Jake Gyllenhaal, Robert Downey J...</td>\n",
              "      <td>2007</td>\n",
              "      <td>R</td>\n",
              "      <td>Cult Movies, Dramas, Thrillers</td>\n",
              "      <td>A political cartoonist, a crime reporter and a...</td>\n",
              "    </tr>\n",
              "    <tr>\n",
              "      <th>8803</th>\n",
              "      <td>TV Show</td>\n",
              "      <td>Zombie Dumb</td>\n",
              "      <td>NaN</td>\n",
              "      <td>2018</td>\n",
              "      <td>TV-Y7</td>\n",
              "      <td>Kids' TV, Korean TV Shows, TV Comedies</td>\n",
              "      <td>While living alone in a spooky town, a young g...</td>\n",
              "    </tr>\n",
              "    <tr>\n",
              "      <th>8804</th>\n",
              "      <td>Movie</td>\n",
              "      <td>Zombieland</td>\n",
              "      <td>Jesse Eisenberg, Woody Harrelson, Emma Stone, ...</td>\n",
              "      <td>2009</td>\n",
              "      <td>R</td>\n",
              "      <td>Comedies, Horror Movies</td>\n",
              "      <td>Looking to survive in a world taken over by zo...</td>\n",
              "    </tr>\n",
              "    <tr>\n",
              "      <th>8805</th>\n",
              "      <td>Movie</td>\n",
              "      <td>Zoom</td>\n",
              "      <td>Tim Allen, Courteney Cox, Chevy Chase, Kate Ma...</td>\n",
              "      <td>2006</td>\n",
              "      <td>PG</td>\n",
              "      <td>Children &amp; Family Movies, Comedies</td>\n",
              "      <td>Dragged from civilian life, a former superhero...</td>\n",
              "    </tr>\n",
              "    <tr>\n",
              "      <th>8806</th>\n",
              "      <td>Movie</td>\n",
              "      <td>Zubaan</td>\n",
              "      <td>Vicky Kaushal, Sarah-Jane Dias, Raaghav Chanan...</td>\n",
              "      <td>2015</td>\n",
              "      <td>TV-14</td>\n",
              "      <td>Dramas, International Movies, Music &amp; Musicals</td>\n",
              "      <td>A scrappy but poor boy worms his way into a ty...</td>\n",
              "    </tr>\n",
              "  </tbody>\n",
              "</table>\n",
              "<p>8804 rows × 7 columns</p>\n",
              "</div>"
            ],
            "text/plain": [
              "         type                  title  \\\n",
              "0       Movie   Dick Johnson Is Dead   \n",
              "1     TV Show          Blood & Water   \n",
              "2     TV Show              Ganglands   \n",
              "3     TV Show  Jailbirds New Orleans   \n",
              "4     TV Show           Kota Factory   \n",
              "...       ...                    ...   \n",
              "8802    Movie                 Zodiac   \n",
              "8803  TV Show            Zombie Dumb   \n",
              "8804    Movie             Zombieland   \n",
              "8805    Movie                   Zoom   \n",
              "8806    Movie                 Zubaan   \n",
              "\n",
              "                                                   cast  release_year rating  \\\n",
              "0                                                   NaN          2020  PG-13   \n",
              "1     Ama Qamata, Khosi Ngema, Gail Mabalane, Thaban...          2021  TV-MA   \n",
              "2     Sami Bouajila, Tracy Gotoas, Samuel Jouy, Nabi...          2021  TV-MA   \n",
              "3                                                   NaN          2021  TV-MA   \n",
              "4     Mayur More, Jitendra Kumar, Ranjan Raj, Alam K...          2021  TV-MA   \n",
              "...                                                 ...           ...    ...   \n",
              "8802  Mark Ruffalo, Jake Gyllenhaal, Robert Downey J...          2007      R   \n",
              "8803                                                NaN          2018  TV-Y7   \n",
              "8804  Jesse Eisenberg, Woody Harrelson, Emma Stone, ...          2009      R   \n",
              "8805  Tim Allen, Courteney Cox, Chevy Chase, Kate Ma...          2006     PG   \n",
              "8806  Vicky Kaushal, Sarah-Jane Dias, Raaghav Chanan...          2015  TV-14   \n",
              "\n",
              "                                              listed_in  \\\n",
              "0                                         Documentaries   \n",
              "1       International TV Shows, TV Dramas, TV Mysteries   \n",
              "2     Crime TV Shows, International TV Shows, TV Act...   \n",
              "3                                Docuseries, Reality TV   \n",
              "4     International TV Shows, Romantic TV Shows, TV ...   \n",
              "...                                                 ...   \n",
              "8802                     Cult Movies, Dramas, Thrillers   \n",
              "8803             Kids' TV, Korean TV Shows, TV Comedies   \n",
              "8804                            Comedies, Horror Movies   \n",
              "8805                 Children & Family Movies, Comedies   \n",
              "8806     Dramas, International Movies, Music & Musicals   \n",
              "\n",
              "                                            description  \n",
              "0     As her father nears the end of his life, filmm...  \n",
              "1     After crossing paths at a party, a Cape Town t...  \n",
              "2     To protect his family from a powerful drug lor...  \n",
              "3     Feuds, flirtations and toilet talk go down amo...  \n",
              "4     In a city of coaching centers known to train I...  \n",
              "...                                                 ...  \n",
              "8802  A political cartoonist, a crime reporter and a...  \n",
              "8803  While living alone in a spooky town, a young g...  \n",
              "8804  Looking to survive in a world taken over by zo...  \n",
              "8805  Dragged from civilian life, a former superhero...  \n",
              "8806  A scrappy but poor boy worms his way into a ty...  \n",
              "\n",
              "[8804 rows x 7 columns]"
            ]
          },
          "execution_count": 14,
          "metadata": {},
          "output_type": "execute_result"
        }
      ],
      "source": [
        "dataset.drop(columns=['director', 'country', 'date_added', 'duration'], inplace=True)\n",
        "dataset"
      ]
    },
    {
      "cell_type": "markdown",
      "metadata": {
        "id": "nZaOH93jgn_X"
      },
      "source": [
        "Because we're gonna make a recommendation system based on content based filtering, therefore we must focusing on the movie/TV shows attributes more than the users / subject interaction attributes. So, we'll drop the attributes which less relevance with the movie/TV shows."
      ]
    },
    {
      "cell_type": "markdown",
      "metadata": {
        "id": "RuwCDXhcdZx9"
      },
      "source": [
        "### Duplicated Values"
      ]
    },
    {
      "cell_type": "code",
      "execution_count": 15,
      "metadata": {
        "colab": {
          "base_uri": "https://localhost:8080/"
        },
        "id": "hYO-W0QzoIG8",
        "outputId": "22a434a7-c709-45a5-e871-8ebd2e8ec6f5"
      },
      "outputs": [
        {
          "data": {
            "text/plain": [
              "0"
            ]
          },
          "execution_count": 15,
          "metadata": {},
          "output_type": "execute_result"
        }
      ],
      "source": [
        "dataset.duplicated().sum()"
      ]
    },
    {
      "cell_type": "markdown",
      "metadata": {
        "id": "2X93BwnUgp7h"
      },
      "source": [
        "As we can see here, the dataset here is quite clean in context of duplication, because there are no duplications detected here."
      ]
    },
    {
      "cell_type": "markdown",
      "metadata": {
        "id": "KKQ_5cr6gzIE"
      },
      "source": [
        "### Missing Values\n"
      ]
    },
    {
      "cell_type": "code",
      "execution_count": 16,
      "metadata": {
        "colab": {
          "base_uri": "https://localhost:8080/",
          "height": 303
        },
        "id": "UV1pYJeroIJI",
        "outputId": "3264abdf-54f6-42a9-e65f-b3474191fb49"
      },
      "outputs": [
        {
          "data": {
            "text/plain": [
              "type              0\n",
              "title             0\n",
              "cast            825\n",
              "release_year      0\n",
              "rating            4\n",
              "listed_in         0\n",
              "description       0\n",
              "dtype: int64"
            ]
          },
          "execution_count": 16,
          "metadata": {},
          "output_type": "execute_result"
        }
      ],
      "source": [
        "dataset.isna().sum()"
      ]
    },
    {
      "cell_type": "code",
      "execution_count": 17,
      "metadata": {
        "id": "7tMFMdiDoIMP"
      },
      "outputs": [],
      "source": [
        "dataset = dataset.dropna().reset_index(drop=True)"
      ]
    },
    {
      "cell_type": "code",
      "execution_count": 18,
      "metadata": {
        "colab": {
          "base_uri": "https://localhost:8080/",
          "height": 303
        },
        "id": "n9G0Uda3oIOh",
        "outputId": "7e5f833d-9873-4e9f-8e6d-1f4714c19162"
      },
      "outputs": [
        {
          "data": {
            "text/plain": [
              "type            0\n",
              "title           0\n",
              "cast            0\n",
              "release_year    0\n",
              "rating          0\n",
              "listed_in       0\n",
              "description     0\n",
              "dtype: int64"
            ]
          },
          "execution_count": 18,
          "metadata": {},
          "output_type": "execute_result"
        }
      ],
      "source": [
        "dataset.isna().sum()"
      ]
    },
    {
      "cell_type": "code",
      "execution_count": 19,
      "metadata": {
        "colab": {
          "base_uri": "https://localhost:8080/",
          "height": 597
        },
        "id": "ZNexVSSqhiR_",
        "outputId": "5bb90f95-8ccd-4d59-a370-ef6cc8b2aaf8"
      },
      "outputs": [
        {
          "data": {
            "text/html": [
              "<div>\n",
              "<style scoped>\n",
              "    .dataframe tbody tr th:only-of-type {\n",
              "        vertical-align: middle;\n",
              "    }\n",
              "\n",
              "    .dataframe tbody tr th {\n",
              "        vertical-align: top;\n",
              "    }\n",
              "\n",
              "    .dataframe thead th {\n",
              "        text-align: right;\n",
              "    }\n",
              "</style>\n",
              "<table border=\"1\" class=\"dataframe\">\n",
              "  <thead>\n",
              "    <tr style=\"text-align: right;\">\n",
              "      <th></th>\n",
              "      <th>type</th>\n",
              "      <th>title</th>\n",
              "      <th>cast</th>\n",
              "      <th>release_year</th>\n",
              "      <th>rating</th>\n",
              "      <th>listed_in</th>\n",
              "      <th>description</th>\n",
              "    </tr>\n",
              "  </thead>\n",
              "  <tbody>\n",
              "    <tr>\n",
              "      <th>0</th>\n",
              "      <td>TV Show</td>\n",
              "      <td>Blood &amp; Water</td>\n",
              "      <td>Ama Qamata, Khosi Ngema, Gail Mabalane, Thaban...</td>\n",
              "      <td>2021</td>\n",
              "      <td>TV-MA</td>\n",
              "      <td>International TV Shows, TV Dramas, TV Mysteries</td>\n",
              "      <td>After crossing paths at a party, a Cape Town t...</td>\n",
              "    </tr>\n",
              "    <tr>\n",
              "      <th>1</th>\n",
              "      <td>TV Show</td>\n",
              "      <td>Ganglands</td>\n",
              "      <td>Sami Bouajila, Tracy Gotoas, Samuel Jouy, Nabi...</td>\n",
              "      <td>2021</td>\n",
              "      <td>TV-MA</td>\n",
              "      <td>Crime TV Shows, International TV Shows, TV Act...</td>\n",
              "      <td>To protect his family from a powerful drug lor...</td>\n",
              "    </tr>\n",
              "    <tr>\n",
              "      <th>2</th>\n",
              "      <td>TV Show</td>\n",
              "      <td>Kota Factory</td>\n",
              "      <td>Mayur More, Jitendra Kumar, Ranjan Raj, Alam K...</td>\n",
              "      <td>2021</td>\n",
              "      <td>TV-MA</td>\n",
              "      <td>International TV Shows, Romantic TV Shows, TV ...</td>\n",
              "      <td>In a city of coaching centers known to train I...</td>\n",
              "    </tr>\n",
              "    <tr>\n",
              "      <th>3</th>\n",
              "      <td>TV Show</td>\n",
              "      <td>Midnight Mass</td>\n",
              "      <td>Kate Siegel, Zach Gilford, Hamish Linklater, H...</td>\n",
              "      <td>2021</td>\n",
              "      <td>TV-MA</td>\n",
              "      <td>TV Dramas, TV Horror, TV Mysteries</td>\n",
              "      <td>The arrival of a charismatic young priest brin...</td>\n",
              "    </tr>\n",
              "    <tr>\n",
              "      <th>4</th>\n",
              "      <td>Movie</td>\n",
              "      <td>My Little Pony: A New Generation</td>\n",
              "      <td>Vanessa Hudgens, Kimiko Glenn, James Marsden, ...</td>\n",
              "      <td>2021</td>\n",
              "      <td>PG</td>\n",
              "      <td>Children &amp; Family Movies</td>\n",
              "      <td>Equestria's divided. But a bright-eyed hero be...</td>\n",
              "    </tr>\n",
              "    <tr>\n",
              "      <th>...</th>\n",
              "      <td>...</td>\n",
              "      <td>...</td>\n",
              "      <td>...</td>\n",
              "      <td>...</td>\n",
              "      <td>...</td>\n",
              "      <td>...</td>\n",
              "      <td>...</td>\n",
              "    </tr>\n",
              "    <tr>\n",
              "      <th>7970</th>\n",
              "      <td>Movie</td>\n",
              "      <td>Zinzana</td>\n",
              "      <td>Ali Suliman, Saleh Bakri, Yasa, Ali Al-Jabri, ...</td>\n",
              "      <td>2015</td>\n",
              "      <td>TV-MA</td>\n",
              "      <td>Dramas, International Movies, Thrillers</td>\n",
              "      <td>Recovering alcoholic Talal wakes up inside a s...</td>\n",
              "    </tr>\n",
              "    <tr>\n",
              "      <th>7971</th>\n",
              "      <td>Movie</td>\n",
              "      <td>Zodiac</td>\n",
              "      <td>Mark Ruffalo, Jake Gyllenhaal, Robert Downey J...</td>\n",
              "      <td>2007</td>\n",
              "      <td>R</td>\n",
              "      <td>Cult Movies, Dramas, Thrillers</td>\n",
              "      <td>A political cartoonist, a crime reporter and a...</td>\n",
              "    </tr>\n",
              "    <tr>\n",
              "      <th>7972</th>\n",
              "      <td>Movie</td>\n",
              "      <td>Zombieland</td>\n",
              "      <td>Jesse Eisenberg, Woody Harrelson, Emma Stone, ...</td>\n",
              "      <td>2009</td>\n",
              "      <td>R</td>\n",
              "      <td>Comedies, Horror Movies</td>\n",
              "      <td>Looking to survive in a world taken over by zo...</td>\n",
              "    </tr>\n",
              "    <tr>\n",
              "      <th>7973</th>\n",
              "      <td>Movie</td>\n",
              "      <td>Zoom</td>\n",
              "      <td>Tim Allen, Courteney Cox, Chevy Chase, Kate Ma...</td>\n",
              "      <td>2006</td>\n",
              "      <td>PG</td>\n",
              "      <td>Children &amp; Family Movies, Comedies</td>\n",
              "      <td>Dragged from civilian life, a former superhero...</td>\n",
              "    </tr>\n",
              "    <tr>\n",
              "      <th>7974</th>\n",
              "      <td>Movie</td>\n",
              "      <td>Zubaan</td>\n",
              "      <td>Vicky Kaushal, Sarah-Jane Dias, Raaghav Chanan...</td>\n",
              "      <td>2015</td>\n",
              "      <td>TV-14</td>\n",
              "      <td>Dramas, International Movies, Music &amp; Musicals</td>\n",
              "      <td>A scrappy but poor boy worms his way into a ty...</td>\n",
              "    </tr>\n",
              "  </tbody>\n",
              "</table>\n",
              "<p>7975 rows × 7 columns</p>\n",
              "</div>"
            ],
            "text/plain": [
              "         type                             title  \\\n",
              "0     TV Show                     Blood & Water   \n",
              "1     TV Show                         Ganglands   \n",
              "2     TV Show                      Kota Factory   \n",
              "3     TV Show                     Midnight Mass   \n",
              "4       Movie  My Little Pony: A New Generation   \n",
              "...       ...                               ...   \n",
              "7970    Movie                           Zinzana   \n",
              "7971    Movie                            Zodiac   \n",
              "7972    Movie                        Zombieland   \n",
              "7973    Movie                              Zoom   \n",
              "7974    Movie                            Zubaan   \n",
              "\n",
              "                                                   cast  release_year rating  \\\n",
              "0     Ama Qamata, Khosi Ngema, Gail Mabalane, Thaban...          2021  TV-MA   \n",
              "1     Sami Bouajila, Tracy Gotoas, Samuel Jouy, Nabi...          2021  TV-MA   \n",
              "2     Mayur More, Jitendra Kumar, Ranjan Raj, Alam K...          2021  TV-MA   \n",
              "3     Kate Siegel, Zach Gilford, Hamish Linklater, H...          2021  TV-MA   \n",
              "4     Vanessa Hudgens, Kimiko Glenn, James Marsden, ...          2021     PG   \n",
              "...                                                 ...           ...    ...   \n",
              "7970  Ali Suliman, Saleh Bakri, Yasa, Ali Al-Jabri, ...          2015  TV-MA   \n",
              "7971  Mark Ruffalo, Jake Gyllenhaal, Robert Downey J...          2007      R   \n",
              "7972  Jesse Eisenberg, Woody Harrelson, Emma Stone, ...          2009      R   \n",
              "7973  Tim Allen, Courteney Cox, Chevy Chase, Kate Ma...          2006     PG   \n",
              "7974  Vicky Kaushal, Sarah-Jane Dias, Raaghav Chanan...          2015  TV-14   \n",
              "\n",
              "                                              listed_in  \\\n",
              "0       International TV Shows, TV Dramas, TV Mysteries   \n",
              "1     Crime TV Shows, International TV Shows, TV Act...   \n",
              "2     International TV Shows, Romantic TV Shows, TV ...   \n",
              "3                    TV Dramas, TV Horror, TV Mysteries   \n",
              "4                              Children & Family Movies   \n",
              "...                                                 ...   \n",
              "7970            Dramas, International Movies, Thrillers   \n",
              "7971                     Cult Movies, Dramas, Thrillers   \n",
              "7972                            Comedies, Horror Movies   \n",
              "7973                 Children & Family Movies, Comedies   \n",
              "7974     Dramas, International Movies, Music & Musicals   \n",
              "\n",
              "                                            description  \n",
              "0     After crossing paths at a party, a Cape Town t...  \n",
              "1     To protect his family from a powerful drug lor...  \n",
              "2     In a city of coaching centers known to train I...  \n",
              "3     The arrival of a charismatic young priest brin...  \n",
              "4     Equestria's divided. But a bright-eyed hero be...  \n",
              "...                                                 ...  \n",
              "7970  Recovering alcoholic Talal wakes up inside a s...  \n",
              "7971  A political cartoonist, a crime reporter and a...  \n",
              "7972  Looking to survive in a world taken over by zo...  \n",
              "7973  Dragged from civilian life, a former superhero...  \n",
              "7974  A scrappy but poor boy worms his way into a ty...  \n",
              "\n",
              "[7975 rows x 7 columns]"
            ]
          },
          "execution_count": 19,
          "metadata": {},
          "output_type": "execute_result"
        }
      ],
      "source": [
        "dataset"
      ]
    },
    {
      "cell_type": "markdown",
      "metadata": {
        "id": "MS_wlE2Ji-Xb"
      },
      "source": [
        "Here we decided to drop all the missing values because the missing values column are cast and rating, which is we cannot do the imputation because we don’t know who is the cast and what is the rating, if we do the imputation, the dataset will definitely become bias. And then we drop the missing values and resetting the index. Now we can see the dataset has no more missing values and already cleaned."
      ]
    },
    {
      "cell_type": "markdown",
      "metadata": {
        "id": "F6KW8tfEkPua"
      },
      "source": [
        "### Split Into Numerical And Categorical Data"
      ]
    },
    {
      "cell_type": "code",
      "execution_count": 20,
      "metadata": {
        "colab": {
          "base_uri": "https://localhost:8080/"
        },
        "id": "Bw_t32vDhiW3",
        "outputId": "5190771f-886e-4152-f481-72cf0a2b2ef4"
      },
      "outputs": [
        {
          "name": "stdout",
          "output_type": "stream",
          "text": [
            "Numerical Cols : ['release_year']\n",
            "Categorical Cols : ['type', 'title', 'cast', 'rating', 'listed_in', 'description']\n"
          ]
        }
      ],
      "source": [
        "num_cols = []  # making list for numerical data\n",
        "cat_cols = []  # making list for categorical data\n",
        "\n",
        "for i in dataset.columns:\n",
        "    if 'int' in str(dataset[i].dtype) or 'float' in str(dataset[i].dtype):\n",
        "        num_cols.append(i) # each attribute with int / float dtypes assigned to the num_cols list\n",
        "    else:\n",
        "        cat_cols.append(i) # the rest of non numeric attribute which is the categoricals / objects\n",
        "\n",
        "print(f\"Numerical Cols : {num_cols}\")\n",
        "print(f\"Categorical Cols : {cat_cols}\")"
      ]
    },
    {
      "cell_type": "code",
      "execution_count": 21,
      "metadata": {
        "colab": {
          "base_uri": "https://localhost:8080/"
        },
        "id": "D9To0wktmTgY",
        "outputId": "b1a44d6c-bc35-42c2-b0e2-1e63475ac450"
      },
      "outputs": [
        {
          "name": "stdout",
          "output_type": "stream",
          "text": [
            "type\n",
            "Movie      5651\n",
            "TV Show    2324\n",
            "Name: count, dtype: int64 \n",
            "\n",
            "title\n",
            "Blood & Water                           1\n",
            "Hibana: Spark                           1\n",
            "Jimmy Carr: Funny Business              1\n",
            "He Never Died                           1\n",
            "Kung Fu Panda: Secrets of the Scroll    1\n",
            "                                       ..\n",
            "Horse Girl                              1\n",
            "Fifty: The Series                       1\n",
            "Dragons: Rescue Riders                  1\n",
            "Azali                                   1\n",
            "Zubaan                                  1\n",
            "Name: count, Length: 7975, dtype: int64 \n",
            "\n",
            "cast\n",
            "David Attenborough                                                                                                                                                                            19\n",
            "Vatsal Dubey, Julie Tejwani, Rupa Bhimani, Jigna Bhardwaj, Rajesh Kava, Mousam, Swapnil                                                                                                       14\n",
            "Samuel West                                                                                                                                                                                   10\n",
            "Jeff Dunham                                                                                                                                                                                    7\n",
            "David Spade, London Hughes, Fortune Feimster                                                                                                                                                   6\n",
            "                                                                                                                                                                                              ..\n",
            "Takeru Sato, Kasumi Arimura, Haru, Kentaro Sakaguchi, Takayuki Yamada, Kendo Kobayashi, Ken Yasuda, Arata Furuta, Suzuki Matsuo, Koichi Yamadera, Arata Iura, Chikako Kaku, Kotaro Yoshida     1\n",
            "Toyin Abraham, Sambasa Nzeribe, Chioma Chukwuka Akpotha, Chioma Omeruah, Chiwetalu Agu, Dele Odule, Femi Adebayo, Bayray McNwizu, Biodun Stephen                                               1\n",
            "Neeraj Kabi, Geetanjali Kulkarni, Danish Husain, Sheeba Chaddha, Paras Priyadarshan, Anshul Chauhan, Anud Singh Dhaka, Shirin Sewani, Mihir Ahuja, Vasundhara Rajput                           1\n",
            "Sanjay Dutt, Arjun Kapoor, Kriti Sanon, Zeenat Aman, Mohnish Bahl, Padmini Kolhapure, Kunal Kapoor, Suhasini Mulay                                                                             1\n",
            "Vicky Kaushal, Sarah-Jane Dias, Raaghav Chanana, Manish Chaudhary, Meghna Malik, Malkeet Rauni, Anita Shabdish, Chittaranjan Tripathy                                                          1\n",
            "Name: count, Length: 7688, dtype: int64 \n",
            "\n",
            "rating\n",
            "TV-MA       2881\n",
            "TV-14       1955\n",
            "R            790\n",
            "TV-PG        719\n",
            "PG-13        477\n",
            "TV-Y7        310\n",
            "PG           279\n",
            "TV-Y         268\n",
            "TV-G         183\n",
            "NR            63\n",
            "G             40\n",
            "TV-Y7-FV       4\n",
            "NC-17          3\n",
            "UR             3\n",
            "Name: count, dtype: int64 \n",
            "\n",
            "listed_in\n",
            "Dramas, International Movies                              362\n",
            "Stand-Up Comedy                                           333\n",
            "Comedies, Dramas, International Movies                    274\n",
            "Dramas, Independent Movies, International Movies          252\n",
            "Children & Family Movies                                  199\n",
            "                                                         ... \n",
            "International TV Shows, TV Horror, TV Sci-Fi & Fantasy      1\n",
            "Crime TV Shows, Kids' TV                                    1\n",
            "Horror Movies, International Movies, Sci-Fi & Fantasy       1\n",
            "TV Comedies, TV Mysteries                                   1\n",
            "Cult Movies, Dramas, Thrillers                              1\n",
            "Name: count, Length: 504, dtype: int64 \n",
            "\n",
            "description\n",
            "Paranormal activity at a lush, abandoned property alarms a group eager to redevelop the site, but the eerie events may not be as unearthly as they think.    4\n",
            "A surly septuagenarian gets another chance at her 20s after having her photo snapped at a studio that magically takes 50 years off her life.                 3\n",
            "After growing up enduring criticism from his father, a young man finds his world shaken upon learning he was switched at birth with a millionaire’s son.     2\n",
            "With their biggest foe seemingly defeated, InuYasha and his friends return to everyday life. But the peace is soon shattered by an emerging new enemy.       2\n",
            "As a woman scours Hyderabad for her missing husband, she becomes entangled in a conspiracy that suggests there’s more to the mystery than meets the eye.     2\n",
            "                                                                                                                                                            ..\n",
            "Unexpected love finds a lonely woman when she forms a connection with a humanlike hologram who looks exactly like his prickly creator.                       1\n",
            "After their dad's murder, three siblings move with their mom to his ancestral estate, where they discover magical keys that unlock powers — and secrets.     1\n",
            "Wishing to settle an old score, a promising soccer player defies his coach’s wishes and leads his team to participate in a violent form of the sport.        1\n",
            "A sweet misfit with a fondness for crafts, horses and supernatural crime shows finds her increasingly lucid dreams trickling into her waking life.           1\n",
            "A scrappy but poor boy worms his way into a tycoon's dysfunctional family, while facing his fear of music and the truth about his past.                      1\n",
            "Name: count, Length: 7949, dtype: int64 \n",
            "\n"
          ]
        }
      ],
      "source": [
        "# displaying unique values of each categorical columns\n",
        "for i in cat_cols:\n",
        "    print(dataset[i].value_counts(), \"\\n\")"
      ]
    },
    {
      "cell_type": "markdown",
      "metadata": {
        "id": "bz2CVWgSoVNA"
      },
      "source": [
        "So here, we’re splitting each column in the dataset into 2 lists, which is numerical and categorical types, we separate them based on their data types. And then we display each values from each categorical columns.\n",
        "\n",
        "The frequency distribution among all the columns are quite focused on some values, for some attributes the proportion are quite evenly. Therefore the distribution were not really normally distributed."
      ]
    },
    {
      "cell_type": "markdown",
      "metadata": {
        "id": "0YsKnFyHowrT"
      },
      "source": [
        "### Exploratory Data Analysis (EDA)\n",
        "\n",
        "Here, in content-based recommendation system, there are no explicit labels like in classification ML model. This recommendation system works with the content features. Therefore i only check the distribution and outliers only."
      ]
    },
    {
      "cell_type": "code",
      "execution_count": 22,
      "metadata": {
        "colab": {
          "base_uri": "https://localhost:8080/",
          "height": 410
        },
        "id": "PgO1foTCov42",
        "outputId": "c4509a0e-54cd-4d56-fc8c-2af39d16c6be"
      },
      "outputs": [
        {
          "data": {
            "image/png": "[encoded data removed]",
            "text/plain": [
              "<Figure size 1000x400 with 2 Axes>"
            ]
          },
          "metadata": {},
          "output_type": "display_data"
        }
      ],
      "source": [
        "# check outliers and distribution for numerical columns\n",
        "plt.figure(figsize=(10, 4))\n",
        "\n",
        "# histogram\n",
        "plt.subplot(1, 2, 1)\n",
        "sns.histplot(dataset['release_year'], bins=7)\n",
        "plt.title(\"Histogram of release_year\")\n",
        "\n",
        "# boxplot\n",
        "plt.subplot(1, 2, 2)\n",
        "sns.boxplot(y=dataset['release_year'])\n",
        "plt.title(\"Boxplot of release_year\")\n",
        "\n",
        "plt.show()"
      ]
    },
    {
      "cell_type": "markdown",
      "metadata": {
        "id": "qJX6cOZZ51zW"
      },
      "source": [
        "Here we’re checking the outliers and distribution for the numerical column. We're not using any loop because there are only 1 numeric column. We can see from the histogram that the data distribution were not normal and it’s left skewed. Meanwhile the outlier range were quite much, spanning from 1942 to 2021. But it’s still reasonable so we won’t do anything about it. We can conclude that most of the movies / TV shows were released above 2010.\n",
        "\n"
      ]
    },
    {
      "cell_type": "code",
      "execution_count": 23,
      "metadata": {
        "colab": {
          "base_uri": "https://localhost:8080/",
          "height": 517
        },
        "id": "KKgcFteMBk5h",
        "outputId": "be511d78-af6a-4294-a269-7d39b139d178"
      },
      "outputs": [
        {
          "name": "stderr",
          "output_type": "stream",
          "text": [
            "C:\\Users\\hartono\\AppData\\Local\\Temp\\ipykernel_19800\\3747657942.py:6: FutureWarning: \n",
            "\n",
            "Passing `palette` without assigning `hue` is deprecated and will be removed in v0.14.0. Assign the `x` variable to `hue` and set `legend=False` for the same effect.\n",
            "\n",
            "  sns.countplot(data=dataset, x='type', palette='Set2')\n"
          ]
        },
        {
          "data": {
            "image/png": "[encoded data removed]",
            "text/plain": [
              "<Figure size 1000x400 with 1 Axes>"
            ]
          },
          "metadata": {},
          "output_type": "display_data"
        }
      ],
      "source": [
        "# checking distribution\n",
        "plt.figure(figsize=(10, 4))\n",
        "\n",
        "# countplot\n",
        "plt.subplot(1, 1, 1)\n",
        "sns.countplot(data=dataset, x='type', palette='Set2')\n",
        "plt.title(\"Countplot of type\")\n",
        "\n",
        "plt.show()\n"
      ]
    },
    {
      "cell_type": "code",
      "execution_count": 24,
      "metadata": {
        "colab": {
          "base_uri": "https://localhost:8080/",
          "height": 517
        },
        "id": "YBmDFB3WMf2O",
        "outputId": "0f14058c-fe3e-4702-8ebf-68358da9037a"
      },
      "outputs": [
        {
          "name": "stderr",
          "output_type": "stream",
          "text": [
            "C:\\Users\\hartono\\AppData\\Local\\Temp\\ipykernel_19800\\4202810986.py:6: FutureWarning: \n",
            "\n",
            "Passing `palette` without assigning `hue` is deprecated and will be removed in v0.14.0. Assign the `x` variable to `hue` and set `legend=False` for the same effect.\n",
            "\n",
            "  sns.countplot(data=dataset, x='rating', palette='Set2')\n"
          ]
        },
        {
          "data": {
            "image/png": "[encoded data removed]",
            "text/plain": [
              "<Figure size 1000x400 with 1 Axes>"
            ]
          },
          "metadata": {},
          "output_type": "display_data"
        }
      ],
      "source": [
        "# checking distribution\n",
        "plt.figure(figsize=(10, 4))\n",
        "\n",
        "# countplot\n",
        "plt.subplot(1, 1, 1)\n",
        "sns.countplot(data=dataset, x='rating', palette='Set2')\n",
        "plt.title(\"Countplot of rating\")\n",
        "\n",
        "plt.show()\n"
      ]
    },
    {
      "cell_type": "markdown",
      "metadata": {
        "id": "NDgupfkFOF37"
      },
      "source": [
        "Here, we can see that the distribution of type column were dominated by Movie with almost twice the frequency than the TV Show. Now from the rating column, we can get the information that TV-MA and TV-14 are the most type of rating in this dataset followed by the rest of the type with the frequency less than 400. We can conclude that both of the columns above were not normally distributed from the graph shown above.\n",
        "I’m not checking the distribution from all the categorical columns, because the rest of them have too many values, so the graph cannot showing any useful information.\n"
      ]
    },
    {
      "cell_type": "markdown",
      "metadata": {
        "id": "2OizZKmMP1jF"
      },
      "source": [
        "## EDA Summary\n",
        "\n",
        "After doing the EDA so far, the dataset were not that clean in aspect of missing values, because some of them were found during the exploration process. The data distribution on categorical column were not evenly distributed, there are some values with higher frequency on each attributes. Meanwhile the numerical column were also not normally distributed. So it'll be a little challenging to make this recommendation system."
      ]
    },
    {
      "cell_type": "markdown",
      "metadata": {
        "id": "Xusz069mUvhz"
      },
      "source": [
        "## Content-Based Recommendation System"
      ]
    },
    {
      "cell_type": "code",
      "execution_count": 25,
      "metadata": {
        "colab": {
          "base_uri": "https://localhost:8080/",
          "height": 293
        },
        "id": "2WBl87JAov_S",
        "outputId": "5bca8329-bd1b-4d53-efd4-c54a020a0c8d"
      },
      "outputs": [
        {
          "data": {
            "text/html": [
              "<div>\n",
              "<style scoped>\n",
              "    .dataframe tbody tr th:only-of-type {\n",
              "        vertical-align: middle;\n",
              "    }\n",
              "\n",
              "    .dataframe tbody tr th {\n",
              "        vertical-align: top;\n",
              "    }\n",
              "\n",
              "    .dataframe thead th {\n",
              "        text-align: right;\n",
              "    }\n",
              "</style>\n",
              "<table border=\"1\" class=\"dataframe\">\n",
              "  <thead>\n",
              "    <tr style=\"text-align: right;\">\n",
              "      <th></th>\n",
              "      <th>type</th>\n",
              "      <th>title</th>\n",
              "      <th>cast</th>\n",
              "      <th>release_year</th>\n",
              "      <th>rating</th>\n",
              "      <th>listed_in</th>\n",
              "      <th>description</th>\n",
              "    </tr>\n",
              "  </thead>\n",
              "  <tbody>\n",
              "    <tr>\n",
              "      <th>0</th>\n",
              "      <td>TV Show</td>\n",
              "      <td>Blood &amp; Water</td>\n",
              "      <td>Ama Qamata, Khosi Ngema, Gail Mabalane, Thaban...</td>\n",
              "      <td>2021</td>\n",
              "      <td>TV-MA</td>\n",
              "      <td>International TV Shows, TV Dramas, TV Mysteries</td>\n",
              "      <td>After crossing paths at a party, a Cape Town t...</td>\n",
              "    </tr>\n",
              "    <tr>\n",
              "      <th>1</th>\n",
              "      <td>TV Show</td>\n",
              "      <td>Ganglands</td>\n",
              "      <td>Sami Bouajila, Tracy Gotoas, Samuel Jouy, Nabi...</td>\n",
              "      <td>2021</td>\n",
              "      <td>TV-MA</td>\n",
              "      <td>Crime TV Shows, International TV Shows, TV Act...</td>\n",
              "      <td>To protect his family from a powerful drug lor...</td>\n",
              "    </tr>\n",
              "    <tr>\n",
              "      <th>2</th>\n",
              "      <td>TV Show</td>\n",
              "      <td>Kota Factory</td>\n",
              "      <td>Mayur More, Jitendra Kumar, Ranjan Raj, Alam K...</td>\n",
              "      <td>2021</td>\n",
              "      <td>TV-MA</td>\n",
              "      <td>International TV Shows, Romantic TV Shows, TV ...</td>\n",
              "      <td>In a city of coaching centers known to train I...</td>\n",
              "    </tr>\n",
              "    <tr>\n",
              "      <th>3</th>\n",
              "      <td>TV Show</td>\n",
              "      <td>Midnight Mass</td>\n",
              "      <td>Kate Siegel, Zach Gilford, Hamish Linklater, H...</td>\n",
              "      <td>2021</td>\n",
              "      <td>TV-MA</td>\n",
              "      <td>TV Dramas, TV Horror, TV Mysteries</td>\n",
              "      <td>The arrival of a charismatic young priest brin...</td>\n",
              "    </tr>\n",
              "    <tr>\n",
              "      <th>4</th>\n",
              "      <td>Movie</td>\n",
              "      <td>My Little Pony: A New Generation</td>\n",
              "      <td>Vanessa Hudgens, Kimiko Glenn, James Marsden, ...</td>\n",
              "      <td>2021</td>\n",
              "      <td>PG</td>\n",
              "      <td>Children &amp; Family Movies</td>\n",
              "      <td>Equestria's divided. But a bright-eyed hero be...</td>\n",
              "    </tr>\n",
              "  </tbody>\n",
              "</table>\n",
              "</div>"
            ],
            "text/plain": [
              "      type                             title  \\\n",
              "0  TV Show                     Blood & Water   \n",
              "1  TV Show                         Ganglands   \n",
              "2  TV Show                      Kota Factory   \n",
              "3  TV Show                     Midnight Mass   \n",
              "4    Movie  My Little Pony: A New Generation   \n",
              "\n",
              "                                                cast  release_year rating  \\\n",
              "0  Ama Qamata, Khosi Ngema, Gail Mabalane, Thaban...          2021  TV-MA   \n",
              "1  Sami Bouajila, Tracy Gotoas, Samuel Jouy, Nabi...          2021  TV-MA   \n",
              "2  Mayur More, Jitendra Kumar, Ranjan Raj, Alam K...          2021  TV-MA   \n",
              "3  Kate Siegel, Zach Gilford, Hamish Linklater, H...          2021  TV-MA   \n",
              "4  Vanessa Hudgens, Kimiko Glenn, James Marsden, ...          2021     PG   \n",
              "\n",
              "                                           listed_in  \\\n",
              "0    International TV Shows, TV Dramas, TV Mysteries   \n",
              "1  Crime TV Shows, International TV Shows, TV Act...   \n",
              "2  International TV Shows, Romantic TV Shows, TV ...   \n",
              "3                 TV Dramas, TV Horror, TV Mysteries   \n",
              "4                           Children & Family Movies   \n",
              "\n",
              "                                         description  \n",
              "0  After crossing paths at a party, a Cape Town t...  \n",
              "1  To protect his family from a powerful drug lor...  \n",
              "2  In a city of coaching centers known to train I...  \n",
              "3  The arrival of a charismatic young priest brin...  \n",
              "4  Equestria's divided. But a bright-eyed hero be...  "
            ]
          },
          "execution_count": 25,
          "metadata": {},
          "output_type": "execute_result"
        }
      ],
      "source": [
        "dataset.head()"
      ]
    },
    {
      "cell_type": "code",
      "execution_count": 26,
      "metadata": {
        "id": "vYArz3Y7owFk"
      },
      "outputs": [],
      "source": [
        "# this selected features are used to calculate the similarity between each data\n",
        "dataset['selected_features'] = dataset['listed_in'] + ' ' + dataset['title'] + ' ' + dataset['rating'] + ' ' + dataset['description'] # combine into single string\n",
        "\n",
        "tfidf = TfidfVectorizer(stop_words='english')\n",
        "tfidf_matrix = tfidf.fit_transform(dataset['selected_features'])\n",
        "cosine_sim = linear_kernel(tfidf_matrix, tfidf_matrix)"
      ]
    },
    {
      "cell_type": "markdown",
      "metadata": {
        "id": "IxH-OyxnSBsj"
      },
      "source": [
        "Here, we’re checking the first 5 entries of the data. And then we make a new column in the dataset for the selected features for recommendation process later into a single string to be analysed later.\n",
        "The TfidVectorizer is used to convert the string into a numeric vector with the stop_words means to ignore the general words such as “the”, “is”, etc. And then we’re fitting the selected features. Lastly we’re counting the cosine similarity scores between all the data which shows how identical the data to each other.\n"
      ]
    },
    {
      "cell_type": "code",
      "execution_count": 27,
      "metadata": {
        "id": "4QU51o1HUyBI"
      },
      "outputs": [],
      "source": [
        "# recommendation system function\n",
        "def recommend_system(title, cosine_sim=cosine_sim, num_recommend = 5):\n",
        "    indices = pd.Series(dataset.index, index=dataset['title']).drop_duplicates()  # mapping corelated values with title\n",
        "\n",
        "    if title not in indices:\n",
        "        raise ValueError(f\"Title '{title}' not found in the dataset.\")\n",
        "\n",
        "    index = indices[title]  # index of the provided movie / TV shows\n",
        "    sim_scores = list(enumerate(cosine_sim[index]))  # generate similarity scores\n",
        "    sim_scores = sorted(sim_scores, key=lambda x: x[1], reverse=True)\n",
        "\n",
        "    top_similar = sim_scores[1:num_recommend+1]  # most similar excluding the title itself\n",
        "    netflix_indices = [i[0] for i in top_similar]\n",
        "\n",
        "    return_data = pd.DataFrame(dataset[['title', 'type', 'cast', 'rating', 'listed_in']].iloc[netflix_indices])\n",
        "    return_data['score'] = np.array(top_similar)[:,1]\n",
        "    return return_data"
      ]
    },
    {
      "cell_type": "markdown",
      "metadata": {
        "id": "70vvGuy5Y1Hv"
      },
      "source": [
        "Here is the recommendation function with the title which we want to search the recommendation with cosine similarity which already counted before and number of recommend to show is 5. And then the indices is used to mapping the title to index in the dataset. The sim_scores is to generating the similarity scores and then sorted it descendingly. And then excluding the title itself and picking the index of the most similar data.   \n",
        "Lastly, we make a dataframe with some attributes we want to shown in the results and an additional score column to show the similarity of the results with the inputed title.\n"
      ]
    },
    {
      "cell_type": "code",
      "execution_count": 28,
      "metadata": {
        "id": "7UwqXg5hGxzq"
      },
      "outputs": [],
      "source": [
        "filename = 'netflix_recommender.pkl'\n",
        "\n",
        "components = {\n",
        "    'tfidf': tfidf,\n",
        "    'cosine_sim': cosine_sim,\n",
        "    'dataset': dataset,\n",
        "    'indices': pd.Series(dataset.index, index=dataset['title']).drop_duplicates()\n",
        "}\n",
        "\n",
        "pkl.dump(components, open(filename, 'wb'))"
      ]
    },
    {
      "cell_type": "code",
      "execution_count": 29,
      "metadata": {
        "id": "Bvlr00w2UyD2"
      },
      "outputs": [
        {
          "data": {
            "text/html": [
              "<div>\n",
              "<style scoped>\n",
              "    .dataframe tbody tr th:only-of-type {\n",
              "        vertical-align: middle;\n",
              "    }\n",
              "\n",
              "    .dataframe tbody tr th {\n",
              "        vertical-align: top;\n",
              "    }\n",
              "\n",
              "    .dataframe thead th {\n",
              "        text-align: right;\n",
              "    }\n",
              "</style>\n",
              "<table border=\"1\" class=\"dataframe\">\n",
              "  <thead>\n",
              "    <tr style=\"text-align: right;\">\n",
              "      <th></th>\n",
              "      <th>title</th>\n",
              "      <th>type</th>\n",
              "      <th>cast</th>\n",
              "      <th>rating</th>\n",
              "      <th>listed_in</th>\n",
              "      <th>score</th>\n",
              "    </tr>\n",
              "  </thead>\n",
              "  <tbody>\n",
              "    <tr>\n",
              "      <th>6434</th>\n",
              "      <td>Inuyasha the Movie - L'isola del fuoco scarlatto</td>\n",
              "      <td>Movie</td>\n",
              "      <td>Kappei Yamaguchi, Satsuki Yukino, Koji Tsujita...</td>\n",
              "      <td>TV-PG</td>\n",
              "      <td>Action &amp; Adventure, Anime Features, Internatio...</td>\n",
              "      <td>0.847884</td>\n",
              "    </tr>\n",
              "    <tr>\n",
              "      <th>44</th>\n",
              "      <td>InuYasha the Movie 2: The Castle Beyond the Lo...</td>\n",
              "      <td>Movie</td>\n",
              "      <td>Kappei Yamaguchi, Satsuki Yukino, Mieko Harada...</td>\n",
              "      <td>TV-14</td>\n",
              "      <td>Action &amp; Adventure, Anime Features, Internatio...</td>\n",
              "      <td>0.307229</td>\n",
              "    </tr>\n",
              "    <tr>\n",
              "      <th>6436</th>\n",
              "      <td>InuYasha: The Movie 2: The Castle Beyond the L...</td>\n",
              "      <td>Movie</td>\n",
              "      <td>Kappei Yamaguchi, Satsuki Yukino, Koji Tsujita...</td>\n",
              "      <td>TV-14</td>\n",
              "      <td>Action &amp; Adventure, Anime Features, Internatio...</td>\n",
              "      <td>0.307229</td>\n",
              "    </tr>\n",
              "    <tr>\n",
              "      <th>5160</th>\n",
              "      <td>InuYasha</td>\n",
              "      <td>TV Show</td>\n",
              "      <td>Kappei Yamaguchi, Satsuki Yukino, Kumiko Watan...</td>\n",
              "      <td>TV-14</td>\n",
              "      <td>Anime Series, International TV Shows</td>\n",
              "      <td>0.292884</td>\n",
              "    </tr>\n",
              "    <tr>\n",
              "      <th>47</th>\n",
              "      <td>InuYasha the Movie: Affections Touching Across...</td>\n",
              "      <td>Movie</td>\n",
              "      <td>Kappei Yamaguchi, Satsuki Yukino, Koji Tsujita...</td>\n",
              "      <td>TV-PG</td>\n",
              "      <td>Action &amp; Adventure, Anime Features, Internatio...</td>\n",
              "      <td>0.292410</td>\n",
              "    </tr>\n",
              "  </tbody>\n",
              "</table>\n",
              "</div>"
            ],
            "text/plain": [
              "                                                  title     type  \\\n",
              "6434   Inuyasha the Movie - L'isola del fuoco scarlatto    Movie   \n",
              "44    InuYasha the Movie 2: The Castle Beyond the Lo...    Movie   \n",
              "6436  InuYasha: The Movie 2: The Castle Beyond the L...    Movie   \n",
              "5160                                           InuYasha  TV Show   \n",
              "47    InuYasha the Movie: Affections Touching Across...    Movie   \n",
              "\n",
              "                                                   cast rating  \\\n",
              "6434  Kappei Yamaguchi, Satsuki Yukino, Koji Tsujita...  TV-PG   \n",
              "44    Kappei Yamaguchi, Satsuki Yukino, Mieko Harada...  TV-14   \n",
              "6436  Kappei Yamaguchi, Satsuki Yukino, Koji Tsujita...  TV-14   \n",
              "5160  Kappei Yamaguchi, Satsuki Yukino, Kumiko Watan...  TV-14   \n",
              "47    Kappei Yamaguchi, Satsuki Yukino, Koji Tsujita...  TV-PG   \n",
              "\n",
              "                                              listed_in     score  \n",
              "6434  Action & Adventure, Anime Features, Internatio...  0.847884  \n",
              "44    Action & Adventure, Anime Features, Internatio...  0.307229  \n",
              "6436  Action & Adventure, Anime Features, Internatio...  0.307229  \n",
              "5160               Anime Series, International TV Shows  0.292884  \n",
              "47    Action & Adventure, Anime Features, Internatio...  0.292410  "
            ]
          },
          "execution_count": 29,
          "metadata": {},
          "output_type": "execute_result"
        }
      ],
      "source": [
        "# input 1\n",
        "input_1 = recommend_system('InuYasha the Movie 4: Fire on the Mystic Island')\n",
        "input_1"
      ]
    },
    {
      "cell_type": "markdown",
      "metadata": {
        "id": "1gkPzkvf6i3y"
      },
      "source": [
        "Here, we’re testing the recommendation system with InuYasha the Movie 4: Fire on the Mystic Island. As we can see the title recommendation are quite similar, with the type, cast, rating, and listed_in are also almost identical. The score is showing how similar the recommendation with the inputed title.\n",
        "\n"
      ]
    },
    {
      "cell_type": "code",
      "execution_count": 30,
      "metadata": {
        "id": "XX1eR6DOUyHb"
      },
      "outputs": [
        {
          "data": {
            "text/html": [
              "<div>\n",
              "<style scoped>\n",
              "    .dataframe tbody tr th:only-of-type {\n",
              "        vertical-align: middle;\n",
              "    }\n",
              "\n",
              "    .dataframe tbody tr th {\n",
              "        vertical-align: top;\n",
              "    }\n",
              "\n",
              "    .dataframe thead th {\n",
              "        text-align: right;\n",
              "    }\n",
              "</style>\n",
              "<table border=\"1\" class=\"dataframe\">\n",
              "  <thead>\n",
              "    <tr style=\"text-align: right;\">\n",
              "      <th></th>\n",
              "      <th>title</th>\n",
              "      <th>type</th>\n",
              "      <th>cast</th>\n",
              "      <th>rating</th>\n",
              "      <th>listed_in</th>\n",
              "      <th>score</th>\n",
              "    </tr>\n",
              "  </thead>\n",
              "  <tbody>\n",
              "    <tr>\n",
              "      <th>6860</th>\n",
              "      <td>Naruto Shippuden : Blood Prison</td>\n",
              "      <td>Movie</td>\n",
              "      <td>Junko Takeuchi, Chie Nakamura, Rikiya Koyama, ...</td>\n",
              "      <td>TV-14</td>\n",
              "      <td>Action &amp; Adventure, Anime Features, Internatio...</td>\n",
              "      <td>0.987678</td>\n",
              "    </tr>\n",
              "    <tr>\n",
              "      <th>52</th>\n",
              "      <td>Naruto Shippuden: The Movie</td>\n",
              "      <td>Movie</td>\n",
              "      <td>Junko Takeuchi, Chie Nakamura, Yoichi Masukawa...</td>\n",
              "      <td>TV-PG</td>\n",
              "      <td>Action &amp; Adventure, Anime Features, Internatio...</td>\n",
              "      <td>0.428897</td>\n",
              "    </tr>\n",
              "    <tr>\n",
              "      <th>3203</th>\n",
              "      <td>Naruto</td>\n",
              "      <td>TV Show</td>\n",
              "      <td>Junko Takeuchi, Chie Nakamura, Noriaki Sugiyam...</td>\n",
              "      <td>TV-14</td>\n",
              "      <td>Anime Series, International TV Shows</td>\n",
              "      <td>0.396313</td>\n",
              "    </tr>\n",
              "    <tr>\n",
              "      <th>53</th>\n",
              "      <td>Naruto Shippuden: The Movie: The Lost Tower</td>\n",
              "      <td>Movie</td>\n",
              "      <td>Junko Takeuchi, Chie Nakamura, Satoshi Hino, R...</td>\n",
              "      <td>TV-14</td>\n",
              "      <td>Action &amp; Adventure, Anime Features, Internatio...</td>\n",
              "      <td>0.363017</td>\n",
              "    </tr>\n",
              "    <tr>\n",
              "      <th>56</th>\n",
              "      <td>Naruto the Movie: Ninja Clash in the Land of Snow</td>\n",
              "      <td>Movie</td>\n",
              "      <td>Junko Takeuchi, Noriaki Sugiyama, Chie Nakamur...</td>\n",
              "      <td>TV-PG</td>\n",
              "      <td>Action &amp; Adventure, Anime Features, Internatio...</td>\n",
              "      <td>0.353897</td>\n",
              "    </tr>\n",
              "  </tbody>\n",
              "</table>\n",
              "</div>"
            ],
            "text/plain": [
              "                                                  title     type  \\\n",
              "6860                    Naruto Shippuden : Blood Prison    Movie   \n",
              "52                          Naruto Shippuden: The Movie    Movie   \n",
              "3203                                             Naruto  TV Show   \n",
              "53          Naruto Shippuden: The Movie: The Lost Tower    Movie   \n",
              "56    Naruto the Movie: Ninja Clash in the Land of Snow    Movie   \n",
              "\n",
              "                                                   cast rating  \\\n",
              "6860  Junko Takeuchi, Chie Nakamura, Rikiya Koyama, ...  TV-14   \n",
              "52    Junko Takeuchi, Chie Nakamura, Yoichi Masukawa...  TV-PG   \n",
              "3203  Junko Takeuchi, Chie Nakamura, Noriaki Sugiyam...  TV-14   \n",
              "53    Junko Takeuchi, Chie Nakamura, Satoshi Hino, R...  TV-14   \n",
              "56    Junko Takeuchi, Noriaki Sugiyama, Chie Nakamur...  TV-PG   \n",
              "\n",
              "                                              listed_in     score  \n",
              "6860  Action & Adventure, Anime Features, Internatio...  0.987678  \n",
              "52    Action & Adventure, Anime Features, Internatio...  0.428897  \n",
              "3203               Anime Series, International TV Shows  0.396313  \n",
              "53    Action & Adventure, Anime Features, Internatio...  0.363017  \n",
              "56    Action & Adventure, Anime Features, Internatio...  0.353897  "
            ]
          },
          "execution_count": 30,
          "metadata": {},
          "output_type": "execute_result"
        }
      ],
      "source": [
        "# input 2\n",
        "input_2 = recommend_system('Naruto Shippuden the Movie: Blood Prison')\n",
        "input_2"
      ]
    },
    {
      "cell_type": "markdown",
      "metadata": {
        "id": "KCXWgLO8705l"
      },
      "source": [
        "Here, we’re testing the second recommendation system with Naruto Shippuden the Movie: Blood Prison. As we can see the title recommendation are still quite similar, with the types, cast, rating, and listed_in are still almost identical. The score is showing how similar the recommendation with the inputed title."
      ]
    },
    {
      "cell_type": "code",
      "execution_count": 31,
      "metadata": {
        "id": "LqEjnbzCW1bI"
      },
      "outputs": [
        {
          "data": {
            "text/html": [
              "<div>\n",
              "<style scoped>\n",
              "    .dataframe tbody tr th:only-of-type {\n",
              "        vertical-align: middle;\n",
              "    }\n",
              "\n",
              "    .dataframe tbody tr th {\n",
              "        vertical-align: top;\n",
              "    }\n",
              "\n",
              "    .dataframe thead th {\n",
              "        text-align: right;\n",
              "    }\n",
              "</style>\n",
              "<table border=\"1\" class=\"dataframe\">\n",
              "  <thead>\n",
              "    <tr style=\"text-align: right;\">\n",
              "      <th></th>\n",
              "      <th>title</th>\n",
              "      <th>type</th>\n",
              "      <th>cast</th>\n",
              "      <th>rating</th>\n",
              "      <th>listed_in</th>\n",
              "      <th>score</th>\n",
              "    </tr>\n",
              "  </thead>\n",
              "  <tbody>\n",
              "    <tr>\n",
              "      <th>1971</th>\n",
              "      <td>Transformers: War For Cybertron Trilogy</td>\n",
              "      <td>TV Show</td>\n",
              "      <td>Jake Foushee, Jason Marnocha, Linsay Rousseau,...</td>\n",
              "      <td>TV-Y7</td>\n",
              "      <td>Anime Series</td>\n",
              "      <td>0.331748</td>\n",
              "    </tr>\n",
              "    <tr>\n",
              "      <th>1331</th>\n",
              "      <td>Transformers: War for Cybertron: Earthrise</td>\n",
              "      <td>TV Show</td>\n",
              "      <td>Jake Foushee, Jason Marnocha, Linsay Rousseau,...</td>\n",
              "      <td>TV-Y7</td>\n",
              "      <td>Anime Series</td>\n",
              "      <td>0.319845</td>\n",
              "    </tr>\n",
              "    <tr>\n",
              "      <th>1836</th>\n",
              "      <td>Transformers: Cyberverse</td>\n",
              "      <td>TV Show</td>\n",
              "      <td>Sophia Isabella, Jeremy Levy, Jacob Tillman, R...</td>\n",
              "      <td>TV-Y7</td>\n",
              "      <td>Kids' TV</td>\n",
              "      <td>0.207117</td>\n",
              "    </tr>\n",
              "    <tr>\n",
              "      <th>4199</th>\n",
              "      <td>Transformers: Rescue Bots</td>\n",
              "      <td>TV Show</td>\n",
              "      <td>Lacey Chabert, Elan Garfias, Maurice LaMarche,...</td>\n",
              "      <td>TV-Y7</td>\n",
              "      <td>Kids' TV</td>\n",
              "      <td>0.156574</td>\n",
              "    </tr>\n",
              "    <tr>\n",
              "      <th>6479</th>\n",
              "      <td>Jonathan</td>\n",
              "      <td>Movie</td>\n",
              "      <td>Ansel Elgort, Suki Waterhouse, Douglas Hodge, ...</td>\n",
              "      <td>TV-MA</td>\n",
              "      <td>Dramas, Independent Movies, Sci-Fi &amp; Fantasy</td>\n",
              "      <td>0.156499</td>\n",
              "    </tr>\n",
              "  </tbody>\n",
              "</table>\n",
              "</div>"
            ],
            "text/plain": [
              "                                           title     type  \\\n",
              "1971     Transformers: War For Cybertron Trilogy  TV Show   \n",
              "1331  Transformers: War for Cybertron: Earthrise  TV Show   \n",
              "1836                    Transformers: Cyberverse  TV Show   \n",
              "4199                   Transformers: Rescue Bots  TV Show   \n",
              "6479                                    Jonathan    Movie   \n",
              "\n",
              "                                                   cast rating  \\\n",
              "1971  Jake Foushee, Jason Marnocha, Linsay Rousseau,...  TV-Y7   \n",
              "1331  Jake Foushee, Jason Marnocha, Linsay Rousseau,...  TV-Y7   \n",
              "1836  Sophia Isabella, Jeremy Levy, Jacob Tillman, R...  TV-Y7   \n",
              "4199  Lacey Chabert, Elan Garfias, Maurice LaMarche,...  TV-Y7   \n",
              "6479  Ansel Elgort, Suki Waterhouse, Douglas Hodge, ...  TV-MA   \n",
              "\n",
              "                                         listed_in     score  \n",
              "1971                                  Anime Series  0.331748  \n",
              "1331                                  Anime Series  0.319845  \n",
              "1836                                      Kids' TV  0.207117  \n",
              "4199                                      Kids' TV  0.156574  \n",
              "6479  Dramas, Independent Movies, Sci-Fi & Fantasy  0.156499  "
            ]
          },
          "execution_count": 31,
          "metadata": {},
          "output_type": "execute_result"
        }
      ],
      "source": [
        "# input 3\n",
        "input_3 = recommend_system('Transformers: War for Cybertron: Kingdom')\n",
        "input_3"
      ]
    },
    {
      "cell_type": "markdown",
      "metadata": {
        "id": "uLIMo9iW8rzY"
      },
      "source": [
        "Here, we’re testing the third recommendation system with Transformers: War for Cybertron: Kingdom. As we can see the title recommendation are still almost quite similar, with 1 inapropriate recommendation, from the types, cast, rating, and listed_in are not really accurate. As we can see there are some oddity especially in the listed_in column, like the transformer genre shouldn’t be anime right? So the dataset might be a little wrong or not that accurate… From the score similarity is quite average.\n",
        "\n"
      ]
    },
    {
      "cell_type": "markdown",
      "metadata": {
        "id": "Jng2r-WgBfdl"
      },
      "source": [
        "## Deployment Preparation"
      ]
    },
    {
      "cell_type": "code",
      "execution_count": 32,
      "metadata": {
        "id": "l6ziR5V-BgQr"
      },
      "outputs": [],
      "source": [
        "# sorted_dataset = dataset.sort_values(by='title')\n",
        "# pipeline = Pipeline([\n",
        "#         ('clean_dataset', dataset),\n",
        "#         ('sorted_dataset', sorted_dataset),\n",
        "#         ('selected_features', dataset['selected_features'])\n",
        "#     ])\n",
        "# pkl.dump(pipeline, open('datasetPipeline.pkl', 'wb'))"
      ]
    }
  ],
  "metadata": {
    "colab": {
      "provenance": []
    },
    "kernelspec": {
      "display_name": "Python 3",
      "name": "python3"
    },
    "language_info": {
      "codemirror_mode": {
        "name": "ipython",
        "version": 3
      },
      "file_extension": ".py",
      "mimetype": "text/x-python",
      "name": "python",
      "nbconvert_exporter": "python",
      "pygments_lexer": "ipython3",
      "version": "3.11.9"
    }
  },
  "nbformat": 4,
  "nbformat_minor": 0
}
